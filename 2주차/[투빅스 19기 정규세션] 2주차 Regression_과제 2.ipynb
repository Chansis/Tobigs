{
 "cells": [
  {
   "cell_type": "markdown",
   "metadata": {
    "id": "oYVqHpHghxi1",
    "pycharm": {
     "name": "#%% md\n"
    }
   },
   "source": [
    "# [과제 2] 회귀분석\n",
    "### - Ch 1, Ch 2를 토대로 자유롭게 회귀분석과 회귀진단을 진행해주세요.\n",
    "### - 주석으로 설명 및 근거 자세하게 달아주시면 감사하겠습니다. :)"
   ]
  },
  {
   "cell_type": "code",
   "execution_count": 2,
   "metadata": {
    "id": "F0T3iPmPhxi_",
    "pycharm": {
     "name": "#%%\n"
    }
   },
   "outputs": [],
   "source": [
    "%matplotlib inline \n",
    "\n",
    "import pandas as pd\n",
    "import numpy as np\n",
    "import matplotlib.pyplot as plt\n",
    "import seaborn as sns\n",
    "\n",
    "import warnings\n",
    "warnings.filterwarnings(action='ignore')"
   ]
  },
  {
   "cell_type": "markdown",
   "metadata": {
    "id": "P0uNO4d5hxjA",
    "pycharm": {
     "name": "#%% md\n"
    }
   },
   "source": [
    "# Data "
   ]
  },
  {
   "cell_type": "markdown",
   "metadata": {
    "id": "3-xhqe55hxjB",
    "pycharm": {
     "name": "#%% md\n"
    }
   },
   "source": [
    "데이터 출처 : https://www.kaggle.com/avikasliwal/used-cars-price-prediction "
   ]
  },
  {
   "cell_type": "markdown",
   "metadata": {
    "id": "NL9G4b7-hxjB",
    "pycharm": {
     "name": "#%% md\n"
    }
   },
   "source": [
    "< y > \n",
    "* **Price** : The price of the used car in INR Lakhs.\n",
    "\n",
    "\n",
    "\n",
    "< X > \n",
    "* Name : The brand and model of the car (수용와 공급 법칙에 의해 수량이 많을 수록 저렴할 것, 브랜드 가치에 영향을 받을 것)\n",
    "* Location : The location in which the car is being sold or is available for purchase.\n",
    "* Year : The year or edition of the model. \n",
    "(중고차 가격은 연식에 영향을 많이 받음)\n",
    "\n",
    "* Kilometers_Driven : The total kilometres driven in the car by the previous owner(s) in KM.\n",
    "(운전 거리도 주요한 지표가 될 것으로 예상)\n",
    "\n",
    "* Fuel_Type : The type of fuel used by the car. (Petrol, Diesel, Electric, CNG, LPG)\n",
    "* Transmission : The type of transmission used by the car. (Automatic / Manual)\n",
    "* Owner_Type : Whether the ownership is Firsthand, Second hand or other.\n",
    "* Mileage : The standard mileage offered by the car company in kmpl or km/kg\n",
    "(연비 또한 가격에 주요한 영향 미침)\n",
    "\n",
    "* Engine : The displacement volume of the engine in CC.\n",
    "* Power : The maximum power of the engine in bhp.\n",
    "(배기량과 마력이 큰 차가 비쌈)\n",
    "\n",
    "* Seats : The number of seats in the car.\n",
    "* New_Price : The price of a new car of the same model.\n",
    "(신차가격의 단위가 달라 통합 필요 -> 1 Cr = 100 Lakh)\n"
   ]
  },
  {
   "cell_type": "code",
   "execution_count": 3,
   "metadata": {
    "colab": {
     "base_uri": "https://localhost:8080/",
     "height": 407
    },
    "id": "4erq13F3hxjC",
    "outputId": "9d870503-1f14-40ab-fb6c-510abcdf231d",
    "pycharm": {
     "name": "#%%\n"
    },
    "scrolled": true
   },
   "outputs": [
    {
     "data": {
      "text/html": [
       "<div>\n",
       "<style scoped>\n",
       "    .dataframe tbody tr th:only-of-type {\n",
       "        vertical-align: middle;\n",
       "    }\n",
       "\n",
       "    .dataframe tbody tr th {\n",
       "        vertical-align: top;\n",
       "    }\n",
       "\n",
       "    .dataframe thead th {\n",
       "        text-align: right;\n",
       "    }\n",
       "</style>\n",
       "<table border=\"1\" class=\"dataframe\">\n",
       "  <thead>\n",
       "    <tr style=\"text-align: right;\">\n",
       "      <th></th>\n",
       "      <th>Unnamed: 0</th>\n",
       "      <th>Name</th>\n",
       "      <th>Location</th>\n",
       "      <th>Year</th>\n",
       "      <th>Kilometers_Driven</th>\n",
       "      <th>Fuel_Type</th>\n",
       "      <th>Transmission</th>\n",
       "      <th>Owner_Type</th>\n",
       "      <th>Mileage</th>\n",
       "      <th>Engine</th>\n",
       "      <th>Power</th>\n",
       "      <th>Seats</th>\n",
       "      <th>New_Price</th>\n",
       "      <th>Price</th>\n",
       "    </tr>\n",
       "  </thead>\n",
       "  <tbody>\n",
       "    <tr>\n",
       "      <th>0</th>\n",
       "      <td>0</td>\n",
       "      <td>Maruti Wagon R LXI CNG</td>\n",
       "      <td>Mumbai</td>\n",
       "      <td>2010</td>\n",
       "      <td>72000</td>\n",
       "      <td>CNG</td>\n",
       "      <td>Manual</td>\n",
       "      <td>First</td>\n",
       "      <td>26.6 km/kg</td>\n",
       "      <td>998 CC</td>\n",
       "      <td>58.16 bhp</td>\n",
       "      <td>5.0</td>\n",
       "      <td>NaN</td>\n",
       "      <td>1.75</td>\n",
       "    </tr>\n",
       "    <tr>\n",
       "      <th>1</th>\n",
       "      <td>1</td>\n",
       "      <td>Hyundai Creta 1.6 CRDi SX Option</td>\n",
       "      <td>Pune</td>\n",
       "      <td>2015</td>\n",
       "      <td>41000</td>\n",
       "      <td>Diesel</td>\n",
       "      <td>Manual</td>\n",
       "      <td>First</td>\n",
       "      <td>19.67 kmpl</td>\n",
       "      <td>1582 CC</td>\n",
       "      <td>126.2 bhp</td>\n",
       "      <td>5.0</td>\n",
       "      <td>NaN</td>\n",
       "      <td>12.50</td>\n",
       "    </tr>\n",
       "    <tr>\n",
       "      <th>2</th>\n",
       "      <td>2</td>\n",
       "      <td>Honda Jazz V</td>\n",
       "      <td>Chennai</td>\n",
       "      <td>2011</td>\n",
       "      <td>46000</td>\n",
       "      <td>Petrol</td>\n",
       "      <td>Manual</td>\n",
       "      <td>First</td>\n",
       "      <td>18.2 kmpl</td>\n",
       "      <td>1199 CC</td>\n",
       "      <td>88.7 bhp</td>\n",
       "      <td>5.0</td>\n",
       "      <td>8.61 Lakh</td>\n",
       "      <td>4.50</td>\n",
       "    </tr>\n",
       "    <tr>\n",
       "      <th>3</th>\n",
       "      <td>3</td>\n",
       "      <td>Maruti Ertiga VDI</td>\n",
       "      <td>Chennai</td>\n",
       "      <td>2012</td>\n",
       "      <td>87000</td>\n",
       "      <td>Diesel</td>\n",
       "      <td>Manual</td>\n",
       "      <td>First</td>\n",
       "      <td>20.77 kmpl</td>\n",
       "      <td>1248 CC</td>\n",
       "      <td>88.76 bhp</td>\n",
       "      <td>7.0</td>\n",
       "      <td>NaN</td>\n",
       "      <td>6.00</td>\n",
       "    </tr>\n",
       "    <tr>\n",
       "      <th>4</th>\n",
       "      <td>4</td>\n",
       "      <td>Audi A4 New 2.0 TDI Multitronic</td>\n",
       "      <td>Coimbatore</td>\n",
       "      <td>2013</td>\n",
       "      <td>40670</td>\n",
       "      <td>Diesel</td>\n",
       "      <td>Automatic</td>\n",
       "      <td>Second</td>\n",
       "      <td>15.2 kmpl</td>\n",
       "      <td>1968 CC</td>\n",
       "      <td>140.8 bhp</td>\n",
       "      <td>5.0</td>\n",
       "      <td>NaN</td>\n",
       "      <td>17.74</td>\n",
       "    </tr>\n",
       "  </tbody>\n",
       "</table>\n",
       "</div>"
      ],
      "text/plain": [
       "   Unnamed: 0                              Name    Location  Year  \\\n",
       "0           0            Maruti Wagon R LXI CNG      Mumbai  2010   \n",
       "1           1  Hyundai Creta 1.6 CRDi SX Option        Pune  2015   \n",
       "2           2                      Honda Jazz V     Chennai  2011   \n",
       "3           3                 Maruti Ertiga VDI     Chennai  2012   \n",
       "4           4   Audi A4 New 2.0 TDI Multitronic  Coimbatore  2013   \n",
       "\n",
       "   Kilometers_Driven Fuel_Type Transmission Owner_Type     Mileage   Engine  \\\n",
       "0              72000       CNG       Manual      First  26.6 km/kg   998 CC   \n",
       "1              41000    Diesel       Manual      First  19.67 kmpl  1582 CC   \n",
       "2              46000    Petrol       Manual      First   18.2 kmpl  1199 CC   \n",
       "3              87000    Diesel       Manual      First  20.77 kmpl  1248 CC   \n",
       "4              40670    Diesel    Automatic     Second   15.2 kmpl  1968 CC   \n",
       "\n",
       "       Power  Seats  New_Price  Price  \n",
       "0  58.16 bhp    5.0        NaN   1.75  \n",
       "1  126.2 bhp    5.0        NaN  12.50  \n",
       "2   88.7 bhp    5.0  8.61 Lakh   4.50  \n",
       "3  88.76 bhp    7.0        NaN   6.00  \n",
       "4  140.8 bhp    5.0        NaN  17.74  "
      ]
     },
     "execution_count": 3,
     "metadata": {},
     "output_type": "execute_result"
    }
   ],
   "source": [
    "# Load Data \n",
    "data = pd.read_csv(\"assignment2_data.csv\")\n",
    "data.head()"
   ]
  },
  {
   "cell_type": "markdown",
   "metadata": {
    "id": "d-J1QpWR_WYh",
    "pycharm": {
     "name": "#%% md\n"
    }
   },
   "source": [
    "### Data preprocessing"
   ]
  },
  {
   "cell_type": "code",
   "execution_count": 4,
   "metadata": {
    "pycharm": {
     "name": "#%%\n"
    }
   },
   "outputs": [
    {
     "name": "stdout",
     "output_type": "stream",
     "text": [
      "<class 'pandas.core.frame.DataFrame'>\n",
      "RangeIndex: 6019 entries, 0 to 6018\n",
      "Data columns (total 13 columns):\n",
      " #   Column             Non-Null Count  Dtype  \n",
      "---  ------             --------------  -----  \n",
      " 0   Name               6019 non-null   object \n",
      " 1   Location           6019 non-null   object \n",
      " 2   Year               6019 non-null   int64  \n",
      " 3   Kilometers_Driven  6019 non-null   int64  \n",
      " 4   Fuel_Type          6019 non-null   object \n",
      " 5   Transmission       6019 non-null   object \n",
      " 6   Owner_Type         6019 non-null   object \n",
      " 7   Mileage            6017 non-null   object \n",
      " 8   Engine             5983 non-null   object \n",
      " 9   Power              5983 non-null   object \n",
      " 10  Seats              5977 non-null   float64\n",
      " 11  New_Price          824 non-null    object \n",
      " 12  Price              6019 non-null   float64\n",
      "dtypes: float64(2), int64(2), object(9)\n",
      "memory usage: 611.4+ KB\n"
     ]
    },
    {
     "data": {
      "text/plain": [
       "Name                    0\n",
       "Location                0\n",
       "Year                    0\n",
       "Kilometers_Driven       0\n",
       "Fuel_Type               0\n",
       "Transmission            0\n",
       "Owner_Type              0\n",
       "Mileage                 2\n",
       "Engine                 36\n",
       "Power                  36\n",
       "Seats                  42\n",
       "New_Price            5195\n",
       "Price                   0\n",
       "dtype: int64"
      ]
     },
     "execution_count": 4,
     "metadata": {},
     "output_type": "execute_result"
    }
   ],
   "source": [
    "data.drop('Unnamed: 0',inplace = True, axis = 1)\n",
    "data.info()\n",
    "data.isnull().sum()\n",
    "# mileage, Engine, Power, New price에 결측값이 있으며 단위로 인해 숫자형이 아닌 문자형으로 인식되고 있다."
   ]
  },
  {
   "cell_type": "code",
   "execution_count": 366,
   "metadata": {
    "pycharm": {
     "name": "#%%\n"
    }
   },
   "outputs": [
    {
     "data": {
      "text/html": [
       "<div>\n",
       "<style scoped>\n",
       "    .dataframe tbody tr th:only-of-type {\n",
       "        vertical-align: middle;\n",
       "    }\n",
       "\n",
       "    .dataframe tbody tr th {\n",
       "        vertical-align: top;\n",
       "    }\n",
       "\n",
       "    .dataframe thead th {\n",
       "        text-align: right;\n",
       "    }\n",
       "</style>\n",
       "<table border=\"1\" class=\"dataframe\">\n",
       "  <thead>\n",
       "    <tr style=\"text-align: right;\">\n",
       "      <th></th>\n",
       "      <th>Name</th>\n",
       "      <th>Location</th>\n",
       "      <th>Year</th>\n",
       "      <th>Kilometers_Driven</th>\n",
       "      <th>Fuel_Type</th>\n",
       "      <th>Transmission</th>\n",
       "      <th>Owner_Type</th>\n",
       "      <th>Mileage</th>\n",
       "      <th>Engine</th>\n",
       "      <th>Power</th>\n",
       "      <th>Seats</th>\n",
       "      <th>New_Price</th>\n",
       "      <th>Price</th>\n",
       "    </tr>\n",
       "  </thead>\n",
       "  <tbody>\n",
       "    <tr>\n",
       "      <th>0</th>\n",
       "      <td>Maruti Wagon R LXI CNG</td>\n",
       "      <td>Mumbai</td>\n",
       "      <td>2010</td>\n",
       "      <td>72000</td>\n",
       "      <td>CNG</td>\n",
       "      <td>Manual</td>\n",
       "      <td>First</td>\n",
       "      <td>26.6</td>\n",
       "      <td>998</td>\n",
       "      <td>58.16</td>\n",
       "      <td>5.0</td>\n",
       "      <td>NaN</td>\n",
       "      <td>1.75</td>\n",
       "    </tr>\n",
       "    <tr>\n",
       "      <th>1</th>\n",
       "      <td>Hyundai Creta 1.6 CRDi SX Option</td>\n",
       "      <td>Pune</td>\n",
       "      <td>2015</td>\n",
       "      <td>41000</td>\n",
       "      <td>Diesel</td>\n",
       "      <td>Manual</td>\n",
       "      <td>First</td>\n",
       "      <td>19.67</td>\n",
       "      <td>1582</td>\n",
       "      <td>126.2</td>\n",
       "      <td>5.0</td>\n",
       "      <td>NaN</td>\n",
       "      <td>12.50</td>\n",
       "    </tr>\n",
       "    <tr>\n",
       "      <th>2</th>\n",
       "      <td>Honda Jazz V</td>\n",
       "      <td>Chennai</td>\n",
       "      <td>2011</td>\n",
       "      <td>46000</td>\n",
       "      <td>Petrol</td>\n",
       "      <td>Manual</td>\n",
       "      <td>First</td>\n",
       "      <td>18.2</td>\n",
       "      <td>1199</td>\n",
       "      <td>88.7</td>\n",
       "      <td>5.0</td>\n",
       "      <td>8.61 Lakh</td>\n",
       "      <td>4.50</td>\n",
       "    </tr>\n",
       "    <tr>\n",
       "      <th>3</th>\n",
       "      <td>Maruti Ertiga VDI</td>\n",
       "      <td>Chennai</td>\n",
       "      <td>2012</td>\n",
       "      <td>87000</td>\n",
       "      <td>Diesel</td>\n",
       "      <td>Manual</td>\n",
       "      <td>First</td>\n",
       "      <td>20.77</td>\n",
       "      <td>1248</td>\n",
       "      <td>88.76</td>\n",
       "      <td>7.0</td>\n",
       "      <td>NaN</td>\n",
       "      <td>6.00</td>\n",
       "    </tr>\n",
       "    <tr>\n",
       "      <th>4</th>\n",
       "      <td>Audi A4 New 2.0 TDI Multitronic</td>\n",
       "      <td>Coimbatore</td>\n",
       "      <td>2013</td>\n",
       "      <td>40670</td>\n",
       "      <td>Diesel</td>\n",
       "      <td>Automatic</td>\n",
       "      <td>Second</td>\n",
       "      <td>15.2</td>\n",
       "      <td>1968</td>\n",
       "      <td>140.8</td>\n",
       "      <td>5.0</td>\n",
       "      <td>NaN</td>\n",
       "      <td>17.74</td>\n",
       "    </tr>\n",
       "  </tbody>\n",
       "</table>\n",
       "</div>"
      ],
      "text/plain": [
       "                               Name    Location  Year  Kilometers_Driven  \\\n",
       "0            Maruti Wagon R LXI CNG      Mumbai  2010              72000   \n",
       "1  Hyundai Creta 1.6 CRDi SX Option        Pune  2015              41000   \n",
       "2                      Honda Jazz V     Chennai  2011              46000   \n",
       "3                 Maruti Ertiga VDI     Chennai  2012              87000   \n",
       "4   Audi A4 New 2.0 TDI Multitronic  Coimbatore  2013              40670   \n",
       "\n",
       "  Fuel_Type Transmission Owner_Type Mileage Engine   Power  Seats  New_Price  \\\n",
       "0       CNG       Manual      First    26.6   998   58.16     5.0        NaN   \n",
       "1    Diesel       Manual      First   19.67  1582   126.2     5.0        NaN   \n",
       "2    Petrol       Manual      First    18.2  1199    88.7     5.0  8.61 Lakh   \n",
       "3    Diesel       Manual      First   20.77  1248   88.76     7.0        NaN   \n",
       "4    Diesel    Automatic     Second    15.2  1968   140.8     5.0        NaN   \n",
       "\n",
       "   Price  \n",
       "0   1.75  \n",
       "1  12.50  \n",
       "2   4.50  \n",
       "3   6.00  \n",
       "4  17.74  "
      ]
     },
     "execution_count": 366,
     "metadata": {},
     "output_type": "execute_result"
    }
   ],
   "source": [
    "#단위 제거(빈칸으로 변경)\n",
    "# data['Mileage'] = data['Mileage'].replace(\" km/kg\",\"\") 의 경우 단위를 없애지 못함\n",
    "data['Mileage'] = data['Mileage'].str.replace(\" km/kg\",\"\")\n",
    "data['Mileage'] = data['Mileage'].str.replace(\" kmpl\",\"\")\n",
    "data['Engine'] = data['Engine'].str.replace(\" CC\",\" \")\n",
    "data['Power'] = data['Power'].str.replace(\" bhp\",\" \")\n",
    "#power collum에 null 과 빈칸 제거\n",
    "data['Power'] = data['Power'].apply(lambda x : np.nan if x == 'null ' else x if  \" \" else x)\n",
    "data.head()\n"
   ]
  },
  {
   "cell_type": "code",
   "execution_count": 367,
   "metadata": {
    "pycharm": {
     "name": "#%%\n"
    }
   },
   "outputs": [
    {
     "name": "stdout",
     "output_type": "stream",
     "text": [
      "<class 'pandas.core.frame.DataFrame'>\n",
      "RangeIndex: 6019 entries, 0 to 6018\n",
      "Data columns (total 13 columns):\n",
      " #   Column             Non-Null Count  Dtype  \n",
      "---  ------             --------------  -----  \n",
      " 0   Name               6019 non-null   object \n",
      " 1   Location           6019 non-null   object \n",
      " 2   Year               6019 non-null   int64  \n",
      " 3   Kilometers_Driven  6019 non-null   int64  \n",
      " 4   Fuel_Type          6019 non-null   object \n",
      " 5   Transmission       6019 non-null   object \n",
      " 6   Owner_Type         6019 non-null   object \n",
      " 7   Mileage            6017 non-null   float64\n",
      " 8   Engine             5983 non-null   float64\n",
      " 9   Power              5876 non-null   float64\n",
      " 10  Seats              5977 non-null   float64\n",
      " 11  New_Price          824 non-null    object \n",
      " 12  Price              6019 non-null   float64\n",
      "dtypes: float64(5), int64(2), object(6)\n",
      "memory usage: 611.4+ KB\n"
     ]
    },
    {
     "data": {
      "text/plain": [
       "Name                    0\n",
       "Location                0\n",
       "Year                    0\n",
       "Kilometers_Driven       0\n",
       "Fuel_Type               0\n",
       "Transmission            0\n",
       "Owner_Type              0\n",
       "Mileage                 2\n",
       "Engine                 36\n",
       "Power                 143\n",
       "Seats                  42\n",
       "New_Price            5195\n",
       "Price                   0\n",
       "dtype: int64"
      ]
     },
     "execution_count": 367,
     "metadata": {},
     "output_type": "execute_result"
    }
   ],
   "source": [
    "#수치형 변수로 변환\n",
    "data['Mileage'] = pd.to_numeric(data.Mileage)\n",
    "data['Engine'] = pd.to_numeric(data.Engine)\n",
    "data['Power'] = pd.to_numeric(data.Power)\n",
    "data.info()\n",
    "data.isnull().sum()"
   ]
  },
  {
   "cell_type": "markdown",
   "metadata": {
    "pycharm": {
     "name": "#%% md\n"
    }
   },
   "source": [
    "## EDA"
   ]
  },
  {
   "cell_type": "code",
   "execution_count": 368,
   "metadata": {
    "pycharm": {
     "name": "#%%\n"
    }
   },
   "outputs": [
    {
     "data": {
      "text/html": [
       "<div>\n",
       "<style scoped>\n",
       "    .dataframe tbody tr th:only-of-type {\n",
       "        vertical-align: middle;\n",
       "    }\n",
       "\n",
       "    .dataframe tbody tr th {\n",
       "        vertical-align: top;\n",
       "    }\n",
       "\n",
       "    .dataframe thead th {\n",
       "        text-align: right;\n",
       "    }\n",
       "</style>\n",
       "<table border=\"1\" class=\"dataframe\">\n",
       "  <thead>\n",
       "    <tr style=\"text-align: right;\">\n",
       "      <th></th>\n",
       "      <th>Year</th>\n",
       "      <th>Kilometers_Driven</th>\n",
       "      <th>Mileage</th>\n",
       "      <th>Engine</th>\n",
       "      <th>Power</th>\n",
       "      <th>Seats</th>\n",
       "      <th>Price</th>\n",
       "    </tr>\n",
       "    <tr>\n",
       "      <th>Brand</th>\n",
       "      <th></th>\n",
       "      <th></th>\n",
       "      <th></th>\n",
       "      <th></th>\n",
       "      <th></th>\n",
       "      <th></th>\n",
       "      <th></th>\n",
       "    </tr>\n",
       "  </thead>\n",
       "  <tbody>\n",
       "    <tr>\n",
       "      <th>Lamborghini</th>\n",
       "      <td>2011.000000</td>\n",
       "      <td>6500.000000</td>\n",
       "      <td>6.400000</td>\n",
       "      <td>5204.000000</td>\n",
       "      <td>560.000000</td>\n",
       "      <td>2.000000</td>\n",
       "      <td>120.000000</td>\n",
       "    </tr>\n",
       "    <tr>\n",
       "      <th>Bentley</th>\n",
       "      <td>2006.000000</td>\n",
       "      <td>48000.000000</td>\n",
       "      <td>8.600000</td>\n",
       "      <td>5998.000000</td>\n",
       "      <td>552.000000</td>\n",
       "      <td>4.000000</td>\n",
       "      <td>59.000000</td>\n",
       "    </tr>\n",
       "    <tr>\n",
       "      <th>Porsche</th>\n",
       "      <td>2013.222222</td>\n",
       "      <td>40046.777778</td>\n",
       "      <td>13.515556</td>\n",
       "      <td>3479.666667</td>\n",
       "      <td>331.287500</td>\n",
       "      <td>4.055556</td>\n",
       "      <td>48.348333</td>\n",
       "    </tr>\n",
       "    <tr>\n",
       "      <th>Land</th>\n",
       "      <td>2014.016667</td>\n",
       "      <td>59869.016667</td>\n",
       "      <td>10.959167</td>\n",
       "      <td>2475.719298</td>\n",
       "      <td>189.602105</td>\n",
       "      <td>5.403509</td>\n",
       "      <td>39.259500</td>\n",
       "    </tr>\n",
       "    <tr>\n",
       "      <th>Jaguar</th>\n",
       "      <td>2014.400000</td>\n",
       "      <td>36380.725000</td>\n",
       "      <td>14.955750</td>\n",
       "      <td>2623.150000</td>\n",
       "      <td>239.075250</td>\n",
       "      <td>4.850000</td>\n",
       "      <td>37.632250</td>\n",
       "    </tr>\n",
       "    <tr>\n",
       "      <th>Mini</th>\n",
       "      <td>2015.076923</td>\n",
       "      <td>24890.307692</td>\n",
       "      <td>18.593846</td>\n",
       "      <td>1766.615385</td>\n",
       "      <td>147.438462</td>\n",
       "      <td>4.423077</td>\n",
       "      <td>26.896923</td>\n",
       "    </tr>\n",
       "    <tr>\n",
       "      <th>Mercedes-Benz</th>\n",
       "      <td>2013.550314</td>\n",
       "      <td>48766.745283</td>\n",
       "      <td>13.891761</td>\n",
       "      <td>2372.254717</td>\n",
       "      <td>193.579873</td>\n",
       "      <td>5.044025</td>\n",
       "      <td>26.809874</td>\n",
       "    </tr>\n",
       "    <tr>\n",
       "      <th>Audi</th>\n",
       "      <td>2013.614407</td>\n",
       "      <td>53184.885593</td>\n",
       "      <td>15.171780</td>\n",
       "      <td>2281.758475</td>\n",
       "      <td>192.106043</td>\n",
       "      <td>5.262712</td>\n",
       "      <td>25.537712</td>\n",
       "    </tr>\n",
       "    <tr>\n",
       "      <th>BMW</th>\n",
       "      <td>2013.056180</td>\n",
       "      <td>79489.363296</td>\n",
       "      <td>16.989700</td>\n",
       "      <td>2323.221374</td>\n",
       "      <td>209.819847</td>\n",
       "      <td>4.954198</td>\n",
       "      <td>25.243146</td>\n",
       "    </tr>\n",
       "    <tr>\n",
       "      <th>Isuzu</th>\n",
       "      <td>2017.000000</td>\n",
       "      <td>34429.000000</td>\n",
       "      <td>13.800000</td>\n",
       "      <td>2999.000000</td>\n",
       "      <td>174.570000</td>\n",
       "      <td>7.000000</td>\n",
       "      <td>20.000000</td>\n",
       "    </tr>\n",
       "    <tr>\n",
       "      <th>Volvo</th>\n",
       "      <td>2013.285714</td>\n",
       "      <td>70539.666667</td>\n",
       "      <td>15.493333</td>\n",
       "      <td>2160.238095</td>\n",
       "      <td>187.380952</td>\n",
       "      <td>5.190476</td>\n",
       "      <td>18.802857</td>\n",
       "    </tr>\n",
       "    <tr>\n",
       "      <th>Jeep</th>\n",
       "      <td>2017.600000</td>\n",
       "      <td>27799.800000</td>\n",
       "      <td>16.760000</td>\n",
       "      <td>1916.800000</td>\n",
       "      <td>169.333333</td>\n",
       "      <td>5.000000</td>\n",
       "      <td>18.718667</td>\n",
       "    </tr>\n",
       "    <tr>\n",
       "      <th>ISUZU</th>\n",
       "      <td>2017.500000</td>\n",
       "      <td>22711.000000</td>\n",
       "      <td>12.400000</td>\n",
       "      <td>2499.000000</td>\n",
       "      <td>134.000000</td>\n",
       "      <td>5.000000</td>\n",
       "      <td>12.045000</td>\n",
       "    </tr>\n",
       "    <tr>\n",
       "      <th>Toyota</th>\n",
       "      <td>2013.007299</td>\n",
       "      <td>83642.445255</td>\n",
       "      <td>14.380390</td>\n",
       "      <td>2311.519512</td>\n",
       "      <td>128.921063</td>\n",
       "      <td>6.502439</td>\n",
       "      <td>11.580024</td>\n",
       "    </tr>\n",
       "    <tr>\n",
       "      <th>Mitsubishi</th>\n",
       "      <td>2011.111111</td>\n",
       "      <td>82250.629630</td>\n",
       "      <td>12.111111</td>\n",
       "      <td>2537.185185</td>\n",
       "      <td>140.134815</td>\n",
       "      <td>6.074074</td>\n",
       "      <td>11.058889</td>\n",
       "    </tr>\n",
       "    <tr>\n",
       "      <th>Force</th>\n",
       "      <td>2014.000000</td>\n",
       "      <td>44000.000000</td>\n",
       "      <td>17.000000</td>\n",
       "      <td>2183.000000</td>\n",
       "      <td>139.030000</td>\n",
       "      <td>7.000000</td>\n",
       "      <td>9.333333</td>\n",
       "    </tr>\n",
       "    <tr>\n",
       "      <th>Mahindra</th>\n",
       "      <td>2013.731618</td>\n",
       "      <td>69172.327206</td>\n",
       "      <td>15.051144</td>\n",
       "      <td>2126.474265</td>\n",
       "      <td>121.285502</td>\n",
       "      <td>7.033088</td>\n",
       "      <td>8.045919</td>\n",
       "    </tr>\n",
       "    <tr>\n",
       "      <th>Skoda</th>\n",
       "      <td>2012.346821</td>\n",
       "      <td>68509.161850</td>\n",
       "      <td>16.781445</td>\n",
       "      <td>1786.393064</td>\n",
       "      <td>126.737442</td>\n",
       "      <td>5.000000</td>\n",
       "      <td>7.559075</td>\n",
       "    </tr>\n",
       "    <tr>\n",
       "      <th>Ford</th>\n",
       "      <td>2013.206667</td>\n",
       "      <td>63318.680000</td>\n",
       "      <td>18.468167</td>\n",
       "      <td>1597.603333</td>\n",
       "      <td>96.755593</td>\n",
       "      <td>5.251678</td>\n",
       "      <td>6.889400</td>\n",
       "    </tr>\n",
       "    <tr>\n",
       "      <th>Renault</th>\n",
       "      <td>2014.855172</td>\n",
       "      <td>52888.924138</td>\n",
       "      <td>20.704759</td>\n",
       "      <td>1310.337931</td>\n",
       "      <td>87.325172</td>\n",
       "      <td>5.041379</td>\n",
       "      <td>5.799034</td>\n",
       "    </tr>\n",
       "    <tr>\n",
       "      <th>Honda</th>\n",
       "      <td>2013.039474</td>\n",
       "      <td>54961.605263</td>\n",
       "      <td>18.397204</td>\n",
       "      <td>1502.455150</td>\n",
       "      <td>108.541131</td>\n",
       "      <td>5.079867</td>\n",
       "      <td>5.411743</td>\n",
       "    </tr>\n",
       "    <tr>\n",
       "      <th>Hyundai</th>\n",
       "      <td>2013.495032</td>\n",
       "      <td>51393.624210</td>\n",
       "      <td>18.729106</td>\n",
       "      <td>1306.340909</td>\n",
       "      <td>92.229726</td>\n",
       "      <td>5.034545</td>\n",
       "      <td>5.343433</td>\n",
       "    </tr>\n",
       "    <tr>\n",
       "      <th>Volkswagen</th>\n",
       "      <td>2013.511111</td>\n",
       "      <td>57196.939683</td>\n",
       "      <td>18.258889</td>\n",
       "      <td>1442.161905</td>\n",
       "      <td>94.671592</td>\n",
       "      <td>4.990476</td>\n",
       "      <td>5.307270</td>\n",
       "    </tr>\n",
       "    <tr>\n",
       "      <th>Nissan</th>\n",
       "      <td>2013.186813</td>\n",
       "      <td>65409.010989</td>\n",
       "      <td>19.361758</td>\n",
       "      <td>1461.505495</td>\n",
       "      <td>88.371461</td>\n",
       "      <td>5.021978</td>\n",
       "      <td>4.738352</td>\n",
       "    </tr>\n",
       "    <tr>\n",
       "      <th>Maruti</th>\n",
       "      <td>2013.445087</td>\n",
       "      <td>53624.812552</td>\n",
       "      <td>21.505681</td>\n",
       "      <td>1149.743333</td>\n",
       "      <td>74.245617</td>\n",
       "      <td>5.147034</td>\n",
       "      <td>4.517267</td>\n",
       "    </tr>\n",
       "    <tr>\n",
       "      <th>Tata</th>\n",
       "      <td>2013.435484</td>\n",
       "      <td>67313.768817</td>\n",
       "      <td>19.839731</td>\n",
       "      <td>1348.994624</td>\n",
       "      <td>79.595956</td>\n",
       "      <td>5.177419</td>\n",
       "      <td>3.562849</td>\n",
       "    </tr>\n",
       "    <tr>\n",
       "      <th>Fiat</th>\n",
       "      <td>2011.821429</td>\n",
       "      <td>69797.357143</td>\n",
       "      <td>17.375000</td>\n",
       "      <td>1267.200000</td>\n",
       "      <td>87.155652</td>\n",
       "      <td>5.000000</td>\n",
       "      <td>3.269286</td>\n",
       "    </tr>\n",
       "    <tr>\n",
       "      <th>Datsun</th>\n",
       "      <td>2016.538462</td>\n",
       "      <td>19239.846154</td>\n",
       "      <td>21.590769</td>\n",
       "      <td>983.153846</td>\n",
       "      <td>59.716923</td>\n",
       "      <td>5.461538</td>\n",
       "      <td>3.049231</td>\n",
       "    </tr>\n",
       "    <tr>\n",
       "      <th>Chevrolet</th>\n",
       "      <td>2011.570248</td>\n",
       "      <td>63039.479339</td>\n",
       "      <td>18.401157</td>\n",
       "      <td>1363.876033</td>\n",
       "      <td>90.604583</td>\n",
       "      <td>5.272727</td>\n",
       "      <td>3.044463</td>\n",
       "    </tr>\n",
       "    <tr>\n",
       "      <th>Smart</th>\n",
       "      <td>2008.000000</td>\n",
       "      <td>103000.000000</td>\n",
       "      <td>0.000000</td>\n",
       "      <td>799.000000</td>\n",
       "      <td>NaN</td>\n",
       "      <td>2.000000</td>\n",
       "      <td>3.000000</td>\n",
       "    </tr>\n",
       "    <tr>\n",
       "      <th>Ambassador</th>\n",
       "      <td>2003.000000</td>\n",
       "      <td>80000.000000</td>\n",
       "      <td>12.800000</td>\n",
       "      <td>1489.000000</td>\n",
       "      <td>35.500000</td>\n",
       "      <td>5.000000</td>\n",
       "      <td>1.350000</td>\n",
       "    </tr>\n",
       "  </tbody>\n",
       "</table>\n",
       "</div>"
      ],
      "text/plain": [
       "                      Year  Kilometers_Driven    Mileage       Engine  \\\n",
       "Brand                                                                   \n",
       "Lamborghini    2011.000000        6500.000000   6.400000  5204.000000   \n",
       "Bentley        2006.000000       48000.000000   8.600000  5998.000000   \n",
       "Porsche        2013.222222       40046.777778  13.515556  3479.666667   \n",
       "Land           2014.016667       59869.016667  10.959167  2475.719298   \n",
       "Jaguar         2014.400000       36380.725000  14.955750  2623.150000   \n",
       "Mini           2015.076923       24890.307692  18.593846  1766.615385   \n",
       "Mercedes-Benz  2013.550314       48766.745283  13.891761  2372.254717   \n",
       "Audi           2013.614407       53184.885593  15.171780  2281.758475   \n",
       "BMW            2013.056180       79489.363296  16.989700  2323.221374   \n",
       "Isuzu          2017.000000       34429.000000  13.800000  2999.000000   \n",
       "Volvo          2013.285714       70539.666667  15.493333  2160.238095   \n",
       "Jeep           2017.600000       27799.800000  16.760000  1916.800000   \n",
       "ISUZU          2017.500000       22711.000000  12.400000  2499.000000   \n",
       "Toyota         2013.007299       83642.445255  14.380390  2311.519512   \n",
       "Mitsubishi     2011.111111       82250.629630  12.111111  2537.185185   \n",
       "Force          2014.000000       44000.000000  17.000000  2183.000000   \n",
       "Mahindra       2013.731618       69172.327206  15.051144  2126.474265   \n",
       "Skoda          2012.346821       68509.161850  16.781445  1786.393064   \n",
       "Ford           2013.206667       63318.680000  18.468167  1597.603333   \n",
       "Renault        2014.855172       52888.924138  20.704759  1310.337931   \n",
       "Honda          2013.039474       54961.605263  18.397204  1502.455150   \n",
       "Hyundai        2013.495032       51393.624210  18.729106  1306.340909   \n",
       "Volkswagen     2013.511111       57196.939683  18.258889  1442.161905   \n",
       "Nissan         2013.186813       65409.010989  19.361758  1461.505495   \n",
       "Maruti         2013.445087       53624.812552  21.505681  1149.743333   \n",
       "Tata           2013.435484       67313.768817  19.839731  1348.994624   \n",
       "Fiat           2011.821429       69797.357143  17.375000  1267.200000   \n",
       "Datsun         2016.538462       19239.846154  21.590769   983.153846   \n",
       "Chevrolet      2011.570248       63039.479339  18.401157  1363.876033   \n",
       "Smart          2008.000000      103000.000000   0.000000   799.000000   \n",
       "Ambassador     2003.000000       80000.000000  12.800000  1489.000000   \n",
       "\n",
       "                    Power     Seats       Price  \n",
       "Brand                                            \n",
       "Lamborghini    560.000000  2.000000  120.000000  \n",
       "Bentley        552.000000  4.000000   59.000000  \n",
       "Porsche        331.287500  4.055556   48.348333  \n",
       "Land           189.602105  5.403509   39.259500  \n",
       "Jaguar         239.075250  4.850000   37.632250  \n",
       "Mini           147.438462  4.423077   26.896923  \n",
       "Mercedes-Benz  193.579873  5.044025   26.809874  \n",
       "Audi           192.106043  5.262712   25.537712  \n",
       "BMW            209.819847  4.954198   25.243146  \n",
       "Isuzu          174.570000  7.000000   20.000000  \n",
       "Volvo          187.380952  5.190476   18.802857  \n",
       "Jeep           169.333333  5.000000   18.718667  \n",
       "ISUZU          134.000000  5.000000   12.045000  \n",
       "Toyota         128.921063  6.502439   11.580024  \n",
       "Mitsubishi     140.134815  6.074074   11.058889  \n",
       "Force          139.030000  7.000000    9.333333  \n",
       "Mahindra       121.285502  7.033088    8.045919  \n",
       "Skoda          126.737442  5.000000    7.559075  \n",
       "Ford            96.755593  5.251678    6.889400  \n",
       "Renault         87.325172  5.041379    5.799034  \n",
       "Honda          108.541131  5.079867    5.411743  \n",
       "Hyundai         92.229726  5.034545    5.343433  \n",
       "Volkswagen      94.671592  4.990476    5.307270  \n",
       "Nissan          88.371461  5.021978    4.738352  \n",
       "Maruti          74.245617  5.147034    4.517267  \n",
       "Tata            79.595956  5.177419    3.562849  \n",
       "Fiat            87.155652  5.000000    3.269286  \n",
       "Datsun          59.716923  5.461538    3.049231  \n",
       "Chevrolet       90.604583  5.272727    3.044463  \n",
       "Smart                 NaN  2.000000    3.000000  \n",
       "Ambassador      35.500000  5.000000    1.350000  "
      ]
     },
     "execution_count": 368,
     "metadata": {},
     "output_type": "execute_result"
    }
   ],
   "source": [
    "# Name 을 Brand와 Model 로 나누어 각 Brand와 Model 별로 평균 가격 내림차순 정리\n",
    "data[\"Brand\"] = data.Name.map(lambda x : x.split()[0])\n",
    "data[\"Model\"] = data.Name.map(lambda x : x.split()[1:])\n",
    "data.groupby('Brand').mean().sort_values('Price',ascending = False)"
   ]
  },
  {
   "cell_type": "code",
   "execution_count": 369,
   "metadata": {
    "pycharm": {
     "name": "#%%\n"
    }
   },
   "outputs": [
    {
     "data": {
      "text/html": [
       "<div>\n",
       "<style scoped>\n",
       "    .dataframe tbody tr th:only-of-type {\n",
       "        vertical-align: middle;\n",
       "    }\n",
       "\n",
       "    .dataframe tbody tr th {\n",
       "        vertical-align: top;\n",
       "    }\n",
       "\n",
       "    .dataframe thead th {\n",
       "        text-align: right;\n",
       "    }\n",
       "</style>\n",
       "<table border=\"1\" class=\"dataframe\">\n",
       "  <thead>\n",
       "    <tr style=\"text-align: right;\">\n",
       "      <th></th>\n",
       "      <th>Year</th>\n",
       "      <th>Kilometers_Driven</th>\n",
       "      <th>Mileage</th>\n",
       "      <th>Engine</th>\n",
       "      <th>Power</th>\n",
       "      <th>Seats</th>\n",
       "      <th>Price</th>\n",
       "    </tr>\n",
       "    <tr>\n",
       "      <th>Name</th>\n",
       "      <th></th>\n",
       "      <th></th>\n",
       "      <th></th>\n",
       "      <th></th>\n",
       "      <th></th>\n",
       "      <th></th>\n",
       "      <th></th>\n",
       "    </tr>\n",
       "  </thead>\n",
       "  <tbody>\n",
       "    <tr>\n",
       "      <th>Land Rover Range Rover 3.0 Diesel LWB Vogue</th>\n",
       "      <td>2017.0</td>\n",
       "      <td>25000.0</td>\n",
       "      <td>13.33</td>\n",
       "      <td>2993.0</td>\n",
       "      <td>255.0</td>\n",
       "      <td>5.0</td>\n",
       "      <td>160.000</td>\n",
       "    </tr>\n",
       "    <tr>\n",
       "      <th>Lamborghini Gallardo Coupe</th>\n",
       "      <td>2011.0</td>\n",
       "      <td>6500.0</td>\n",
       "      <td>6.40</td>\n",
       "      <td>5204.0</td>\n",
       "      <td>560.0</td>\n",
       "      <td>2.0</td>\n",
       "      <td>120.000</td>\n",
       "    </tr>\n",
       "    <tr>\n",
       "      <th>Jaguar F Type 5.0 V8 S</th>\n",
       "      <td>2015.0</td>\n",
       "      <td>8000.0</td>\n",
       "      <td>12.50</td>\n",
       "      <td>5000.0</td>\n",
       "      <td>488.1</td>\n",
       "      <td>2.0</td>\n",
       "      <td>100.000</td>\n",
       "    </tr>\n",
       "    <tr>\n",
       "      <th>BMW 7 Series 740Li</th>\n",
       "      <td>2017.5</td>\n",
       "      <td>22762.5</td>\n",
       "      <td>12.05</td>\n",
       "      <td>2979.0</td>\n",
       "      <td>320.0</td>\n",
       "      <td>5.0</td>\n",
       "      <td>93.335</td>\n",
       "    </tr>\n",
       "    <tr>\n",
       "      <th>Mercedes-Benz SLK-Class 55 AMG</th>\n",
       "      <td>2014.0</td>\n",
       "      <td>3000.0</td>\n",
       "      <td>12.00</td>\n",
       "      <td>5461.0</td>\n",
       "      <td>421.0</td>\n",
       "      <td>2.0</td>\n",
       "      <td>90.000</td>\n",
       "    </tr>\n",
       "    <tr>\n",
       "      <th>...</th>\n",
       "      <td>...</td>\n",
       "      <td>...</td>\n",
       "      <td>...</td>\n",
       "      <td>...</td>\n",
       "      <td>...</td>\n",
       "      <td>...</td>\n",
       "      <td>...</td>\n",
       "    </tr>\n",
       "    <tr>\n",
       "      <th>Tata New Safari DICOR 2.2 VX 4x2</th>\n",
       "      <td>2008.0</td>\n",
       "      <td>86000.0</td>\n",
       "      <td>13.93</td>\n",
       "      <td>2179.0</td>\n",
       "      <td>138.0</td>\n",
       "      <td>7.0</td>\n",
       "      <td>0.600</td>\n",
       "    </tr>\n",
       "    <tr>\n",
       "      <th>Fiat Siena 1.2 ELX</th>\n",
       "      <td>2001.0</td>\n",
       "      <td>70000.0</td>\n",
       "      <td>0.00</td>\n",
       "      <td>1242.0</td>\n",
       "      <td>NaN</td>\n",
       "      <td>5.0</td>\n",
       "      <td>0.550</td>\n",
       "    </tr>\n",
       "    <tr>\n",
       "      <th>Tata Nano STD SE</th>\n",
       "      <td>2012.0</td>\n",
       "      <td>80000.0</td>\n",
       "      <td>25.40</td>\n",
       "      <td>624.0</td>\n",
       "      <td>37.5</td>\n",
       "      <td>4.0</td>\n",
       "      <td>0.530</td>\n",
       "    </tr>\n",
       "    <tr>\n",
       "      <th>Maruti 800 Std</th>\n",
       "      <td>2002.5</td>\n",
       "      <td>63500.0</td>\n",
       "      <td>16.10</td>\n",
       "      <td>796.0</td>\n",
       "      <td>37.0</td>\n",
       "      <td>4.0</td>\n",
       "      <td>0.505</td>\n",
       "    </tr>\n",
       "    <tr>\n",
       "      <th>Tata Nano Cx</th>\n",
       "      <td>2010.0</td>\n",
       "      <td>57000.0</td>\n",
       "      <td>26.00</td>\n",
       "      <td>624.0</td>\n",
       "      <td>35.0</td>\n",
       "      <td>4.0</td>\n",
       "      <td>0.500</td>\n",
       "    </tr>\n",
       "  </tbody>\n",
       "</table>\n",
       "<p>1876 rows × 7 columns</p>\n",
       "</div>"
      ],
      "text/plain": [
       "                                               Year  Kilometers_Driven  \\\n",
       "Name                                                                     \n",
       "Land Rover Range Rover 3.0 Diesel LWB Vogue  2017.0            25000.0   \n",
       "Lamborghini Gallardo Coupe                   2011.0             6500.0   \n",
       "Jaguar F Type 5.0 V8 S                       2015.0             8000.0   \n",
       "BMW 7 Series 740Li                           2017.5            22762.5   \n",
       "Mercedes-Benz SLK-Class 55 AMG               2014.0             3000.0   \n",
       "...                                             ...                ...   \n",
       "Tata New Safari DICOR 2.2 VX 4x2             2008.0            86000.0   \n",
       "Fiat Siena 1.2 ELX                           2001.0            70000.0   \n",
       "Tata Nano STD SE                             2012.0            80000.0   \n",
       "Maruti 800 Std                               2002.5            63500.0   \n",
       "Tata Nano Cx                                 2010.0            57000.0   \n",
       "\n",
       "                                             Mileage  Engine  Power  Seats  \\\n",
       "Name                                                                         \n",
       "Land Rover Range Rover 3.0 Diesel LWB Vogue    13.33  2993.0  255.0    5.0   \n",
       "Lamborghini Gallardo Coupe                      6.40  5204.0  560.0    2.0   \n",
       "Jaguar F Type 5.0 V8 S                         12.50  5000.0  488.1    2.0   \n",
       "BMW 7 Series 740Li                             12.05  2979.0  320.0    5.0   \n",
       "Mercedes-Benz SLK-Class 55 AMG                 12.00  5461.0  421.0    2.0   \n",
       "...                                              ...     ...    ...    ...   \n",
       "Tata New Safari DICOR 2.2 VX 4x2               13.93  2179.0  138.0    7.0   \n",
       "Fiat Siena 1.2 ELX                              0.00  1242.0    NaN    5.0   \n",
       "Tata Nano STD SE                               25.40   624.0   37.5    4.0   \n",
       "Maruti 800 Std                                 16.10   796.0   37.0    4.0   \n",
       "Tata Nano Cx                                   26.00   624.0   35.0    4.0   \n",
       "\n",
       "                                               Price  \n",
       "Name                                                  \n",
       "Land Rover Range Rover 3.0 Diesel LWB Vogue  160.000  \n",
       "Lamborghini Gallardo Coupe                   120.000  \n",
       "Jaguar F Type 5.0 V8 S                       100.000  \n",
       "BMW 7 Series 740Li                            93.335  \n",
       "Mercedes-Benz SLK-Class 55 AMG                90.000  \n",
       "...                                              ...  \n",
       "Tata New Safari DICOR 2.2 VX 4x2               0.600  \n",
       "Fiat Siena 1.2 ELX                             0.550  \n",
       "Tata Nano STD SE                               0.530  \n",
       "Maruti 800 Std                                 0.505  \n",
       "Tata Nano Cx                                   0.500  \n",
       "\n",
       "[1876 rows x 7 columns]"
      ]
     },
     "execution_count": 369,
     "metadata": {},
     "output_type": "execute_result"
    }
   ],
   "source": [
    "data.groupby('Name').mean().sort_values('Price',ascending = False)"
   ]
  },
  {
   "cell_type": "code",
   "execution_count": 370,
   "metadata": {
    "pycharm": {
     "name": "#%%\n"
    }
   },
   "outputs": [
    {
     "name": "stdout",
     "output_type": "stream",
     "text": [
      "Brand 별 자동차의 대수 : \n",
      " Maruti           1211\n",
      "Hyundai          1107\n",
      "Honda             608\n",
      "Toyota            411\n",
      "Mercedes-Benz     318\n",
      "Volkswagen        315\n",
      "Ford              300\n",
      "Mahindra          272\n",
      "BMW               267\n",
      "Audi              236\n",
      "Tata              186\n",
      "Skoda             173\n",
      "Renault           145\n",
      "Chevrolet         121\n",
      "Nissan             91\n",
      "Land               60\n",
      "Jaguar             40\n",
      "Fiat               28\n",
      "Mitsubishi         27\n",
      "Mini               26\n",
      "Volvo              21\n",
      "Porsche            18\n",
      "Jeep               15\n",
      "Datsun             13\n",
      "Force               3\n",
      "ISUZU               2\n",
      "Smart               1\n",
      "Ambassador          1\n",
      "Isuzu               1\n",
      "Bentley             1\n",
      "Lamborghini         1\n",
      "Name: Brand, dtype: int64\n",
      "Model 별 자동차의 대수 : \n",
      " [XUV500, W8, 2WD]                49\n",
      "[Swift, VDI]                     45\n",
      "[City, 1.5, S, MT]               34\n",
      "[Swift, Dzire, VDI]              34\n",
      "[Swift, VDI, BSIV]               31\n",
      "                                 ..\n",
      "[Fiesta, Titanium, 1.5, TDCi]     1\n",
      "[Scorpio, S10, AT, 4WD]           1\n",
      "[i20, 1.2, Era]                   1\n",
      "[Camry, W4, (AT)]                 1\n",
      "[Xylo, D4, BSIV]                  1\n",
      "Name: Model, Length: 1876, dtype: int64\n"
     ]
    }
   ],
   "source": [
    "print(\"Brand 별 자동차의 대수 : \\n\",data[\"Brand\"].value_counts())\n",
    "print(\"Model 별 자동차의 대수 : \\n\",data[\"Model\"].value_counts())\n",
    "\n",
    "# Model collum이 1876 개로 Brand collum 이용\n",
    "data.drop('Model',inplace = True, axis =1)\n",
    "data.drop('Name',inplace = True, axis =1)"
   ]
  },
  {
   "cell_type": "code",
   "execution_count": 371,
   "metadata": {
    "pycharm": {
     "name": "#%%\n"
    },
    "scrolled": true
   },
   "outputs": [
    {
     "name": "stdout",
     "output_type": "stream",
     "text": [
      "Year 별 자동차의 대수 : \n",
      " 2014    797\n",
      "2015    744\n",
      "2016    741\n",
      "2013    649\n",
      "2017    587\n",
      "2012    580\n",
      "2011    466\n",
      "2010    342\n",
      "2018    298\n",
      "2009    198\n",
      "2008    174\n",
      "2007    125\n",
      "2019    102\n",
      "2006     78\n",
      "2005     57\n",
      "2004     31\n",
      "2003     17\n",
      "2002     15\n",
      "2001      8\n",
      "2000      4\n",
      "1998      4\n",
      "1999      2\n",
      "Name: Year, dtype: int64\n"
     ]
    },
    {
     "data": {
      "text/html": [
       "<div>\n",
       "<style scoped>\n",
       "    .dataframe tbody tr th:only-of-type {\n",
       "        vertical-align: middle;\n",
       "    }\n",
       "\n",
       "    .dataframe tbody tr th {\n",
       "        vertical-align: top;\n",
       "    }\n",
       "\n",
       "    .dataframe thead th {\n",
       "        text-align: right;\n",
       "    }\n",
       "</style>\n",
       "<table border=\"1\" class=\"dataframe\">\n",
       "  <thead>\n",
       "    <tr style=\"text-align: right;\">\n",
       "      <th></th>\n",
       "      <th>Kilometers_Driven</th>\n",
       "      <th>Mileage</th>\n",
       "      <th>Engine</th>\n",
       "      <th>Power</th>\n",
       "      <th>Seats</th>\n",
       "      <th>Price</th>\n",
       "    </tr>\n",
       "    <tr>\n",
       "      <th>Year</th>\n",
       "      <th></th>\n",
       "      <th></th>\n",
       "      <th></th>\n",
       "      <th></th>\n",
       "      <th></th>\n",
       "      <th></th>\n",
       "    </tr>\n",
       "  </thead>\n",
       "  <tbody>\n",
       "    <tr>\n",
       "      <th>1999</th>\n",
       "      <td>105000.000000</td>\n",
       "      <td>15.150000</td>\n",
       "      <td>1168.000000</td>\n",
       "      <td>75.000000</td>\n",
       "      <td>5.000000</td>\n",
       "      <td>0.835000</td>\n",
       "    </tr>\n",
       "    <tr>\n",
       "      <th>2000</th>\n",
       "      <td>112500.000000</td>\n",
       "      <td>15.267500</td>\n",
       "      <td>1817.000000</td>\n",
       "      <td>60.775000</td>\n",
       "      <td>5.750000</td>\n",
       "      <td>1.175000</td>\n",
       "    </tr>\n",
       "    <tr>\n",
       "      <th>2002</th>\n",
       "      <td>75354.066667</td>\n",
       "      <td>12.126667</td>\n",
       "      <td>1336.714286</td>\n",
       "      <td>61.372727</td>\n",
       "      <td>5.285714</td>\n",
       "      <td>1.294000</td>\n",
       "    </tr>\n",
       "    <tr>\n",
       "      <th>1998</th>\n",
       "      <td>87400.000000</td>\n",
       "      <td>14.900000</td>\n",
       "      <td>1188.000000</td>\n",
       "      <td>92.566667</td>\n",
       "      <td>5.000000</td>\n",
       "      <td>1.432500</td>\n",
       "    </tr>\n",
       "    <tr>\n",
       "      <th>2001</th>\n",
       "      <td>139742.875000</td>\n",
       "      <td>10.900000</td>\n",
       "      <td>1625.428571</td>\n",
       "      <td>86.950000</td>\n",
       "      <td>5.428571</td>\n",
       "      <td>1.543750</td>\n",
       "    </tr>\n",
       "    <tr>\n",
       "      <th>2004</th>\n",
       "      <td>103154.290323</td>\n",
       "      <td>12.483226</td>\n",
       "      <td>1525.413793</td>\n",
       "      <td>93.748000</td>\n",
       "      <td>5.448276</td>\n",
       "      <td>1.941290</td>\n",
       "    </tr>\n",
       "    <tr>\n",
       "      <th>2005</th>\n",
       "      <td>92942.245614</td>\n",
       "      <td>13.090351</td>\n",
       "      <td>1665.446429</td>\n",
       "      <td>105.446512</td>\n",
       "      <td>5.436364</td>\n",
       "      <td>2.026842</td>\n",
       "    </tr>\n",
       "    <tr>\n",
       "      <th>2003</th>\n",
       "      <td>81862.411765</td>\n",
       "      <td>14.670588</td>\n",
       "      <td>1466.066667</td>\n",
       "      <td>82.000000</td>\n",
       "      <td>5.133333</td>\n",
       "      <td>2.440000</td>\n",
       "    </tr>\n",
       "    <tr>\n",
       "      <th>2007</th>\n",
       "      <td>84852.496000</td>\n",
       "      <td>14.730800</td>\n",
       "      <td>1606.528455</td>\n",
       "      <td>104.295905</td>\n",
       "      <td>5.317073</td>\n",
       "      <td>3.204000</td>\n",
       "    </tr>\n",
       "    <tr>\n",
       "      <th>2006</th>\n",
       "      <td>97208.102564</td>\n",
       "      <td>14.485256</td>\n",
       "      <td>1682.880000</td>\n",
       "      <td>109.868182</td>\n",
       "      <td>5.360000</td>\n",
       "      <td>3.355897</td>\n",
       "    </tr>\n",
       "    <tr>\n",
       "      <th>2008</th>\n",
       "      <td>83348.005747</td>\n",
       "      <td>15.240345</td>\n",
       "      <td>1679.368421</td>\n",
       "      <td>111.860432</td>\n",
       "      <td>5.165680</td>\n",
       "      <td>3.917759</td>\n",
       "    </tr>\n",
       "    <tr>\n",
       "      <th>2009</th>\n",
       "      <td>79919.015152</td>\n",
       "      <td>15.367576</td>\n",
       "      <td>1754.969388</td>\n",
       "      <td>122.305812</td>\n",
       "      <td>5.163265</td>\n",
       "      <td>5.177727</td>\n",
       "    </tr>\n",
       "    <tr>\n",
       "      <th>2010</th>\n",
       "      <td>73878.289474</td>\n",
       "      <td>16.313889</td>\n",
       "      <td>1686.538235</td>\n",
       "      <td>116.154474</td>\n",
       "      <td>5.200590</td>\n",
       "      <td>5.515497</td>\n",
       "    </tr>\n",
       "    <tr>\n",
       "      <th>2011</th>\n",
       "      <td>69041.519313</td>\n",
       "      <td>16.845677</td>\n",
       "      <td>1708.331169</td>\n",
       "      <td>119.962340</td>\n",
       "      <td>5.261905</td>\n",
       "      <td>6.831931</td>\n",
       "    </tr>\n",
       "    <tr>\n",
       "      <th>2012</th>\n",
       "      <td>69518.586207</td>\n",
       "      <td>18.045345</td>\n",
       "      <td>1645.577661</td>\n",
       "      <td>111.908096</td>\n",
       "      <td>5.284965</td>\n",
       "      <td>7.324724</td>\n",
       "    </tr>\n",
       "    <tr>\n",
       "      <th>2013</th>\n",
       "      <td>64498.283513</td>\n",
       "      <td>18.449507</td>\n",
       "      <td>1636.442901</td>\n",
       "      <td>114.401440</td>\n",
       "      <td>5.285494</td>\n",
       "      <td>8.699353</td>\n",
       "    </tr>\n",
       "    <tr>\n",
       "      <th>2014</th>\n",
       "      <td>56615.319950</td>\n",
       "      <td>18.852158</td>\n",
       "      <td>1616.129560</td>\n",
       "      <td>113.634798</td>\n",
       "      <td>5.310692</td>\n",
       "      <td>9.639360</td>\n",
       "    </tr>\n",
       "    <tr>\n",
       "      <th>2015</th>\n",
       "      <td>53097.782258</td>\n",
       "      <td>19.184637</td>\n",
       "      <td>1612.925876</td>\n",
       "      <td>112.622915</td>\n",
       "      <td>5.286100</td>\n",
       "      <td>11.215538</td>\n",
       "    </tr>\n",
       "    <tr>\n",
       "      <th>2016</th>\n",
       "      <td>43388.877193</td>\n",
       "      <td>19.633081</td>\n",
       "      <td>1536.596491</td>\n",
       "      <td>109.547683</td>\n",
       "      <td>5.286100</td>\n",
       "      <td>11.719096</td>\n",
       "    </tr>\n",
       "    <tr>\n",
       "      <th>2017</th>\n",
       "      <td>44728.388416</td>\n",
       "      <td>19.412709</td>\n",
       "      <td>1556.146758</td>\n",
       "      <td>111.652969</td>\n",
       "      <td>5.310580</td>\n",
       "      <td>13.764940</td>\n",
       "    </tr>\n",
       "    <tr>\n",
       "      <th>2018</th>\n",
       "      <td>24128.248322</td>\n",
       "      <td>19.314228</td>\n",
       "      <td>1566.140940</td>\n",
       "      <td>115.156879</td>\n",
       "      <td>5.184564</td>\n",
       "      <td>15.726141</td>\n",
       "    </tr>\n",
       "    <tr>\n",
       "      <th>2019</th>\n",
       "      <td>20019.647059</td>\n",
       "      <td>17.834510</td>\n",
       "      <td>1728.862745</td>\n",
       "      <td>125.320686</td>\n",
       "      <td>5.450980</td>\n",
       "      <td>19.464118</td>\n",
       "    </tr>\n",
       "  </tbody>\n",
       "</table>\n",
       "</div>"
      ],
      "text/plain": [
       "      Kilometers_Driven    Mileage       Engine       Power     Seats  \\\n",
       "Year                                                                    \n",
       "1999      105000.000000  15.150000  1168.000000   75.000000  5.000000   \n",
       "2000      112500.000000  15.267500  1817.000000   60.775000  5.750000   \n",
       "2002       75354.066667  12.126667  1336.714286   61.372727  5.285714   \n",
       "1998       87400.000000  14.900000  1188.000000   92.566667  5.000000   \n",
       "2001      139742.875000  10.900000  1625.428571   86.950000  5.428571   \n",
       "2004      103154.290323  12.483226  1525.413793   93.748000  5.448276   \n",
       "2005       92942.245614  13.090351  1665.446429  105.446512  5.436364   \n",
       "2003       81862.411765  14.670588  1466.066667   82.000000  5.133333   \n",
       "2007       84852.496000  14.730800  1606.528455  104.295905  5.317073   \n",
       "2006       97208.102564  14.485256  1682.880000  109.868182  5.360000   \n",
       "2008       83348.005747  15.240345  1679.368421  111.860432  5.165680   \n",
       "2009       79919.015152  15.367576  1754.969388  122.305812  5.163265   \n",
       "2010       73878.289474  16.313889  1686.538235  116.154474  5.200590   \n",
       "2011       69041.519313  16.845677  1708.331169  119.962340  5.261905   \n",
       "2012       69518.586207  18.045345  1645.577661  111.908096  5.284965   \n",
       "2013       64498.283513  18.449507  1636.442901  114.401440  5.285494   \n",
       "2014       56615.319950  18.852158  1616.129560  113.634798  5.310692   \n",
       "2015       53097.782258  19.184637  1612.925876  112.622915  5.286100   \n",
       "2016       43388.877193  19.633081  1536.596491  109.547683  5.286100   \n",
       "2017       44728.388416  19.412709  1556.146758  111.652969  5.310580   \n",
       "2018       24128.248322  19.314228  1566.140940  115.156879  5.184564   \n",
       "2019       20019.647059  17.834510  1728.862745  125.320686  5.450980   \n",
       "\n",
       "          Price  \n",
       "Year             \n",
       "1999   0.835000  \n",
       "2000   1.175000  \n",
       "2002   1.294000  \n",
       "1998   1.432500  \n",
       "2001   1.543750  \n",
       "2004   1.941290  \n",
       "2005   2.026842  \n",
       "2003   2.440000  \n",
       "2007   3.204000  \n",
       "2006   3.355897  \n",
       "2008   3.917759  \n",
       "2009   5.177727  \n",
       "2010   5.515497  \n",
       "2011   6.831931  \n",
       "2012   7.324724  \n",
       "2013   8.699353  \n",
       "2014   9.639360  \n",
       "2015  11.215538  \n",
       "2016  11.719096  \n",
       "2017  13.764940  \n",
       "2018  15.726141  \n",
       "2019  19.464118  "
      ]
     },
     "execution_count": 371,
     "metadata": {},
     "output_type": "execute_result"
    }
   ],
   "source": [
    "print(\"Year 별 자동차의 대수 : \\n\",data[\"Year\"].value_counts())\n",
    "data.groupby('Year').mean().sort_values('Price')\n",
    "# 연식이 짧을 수록 가격이 높아지는 경향 확인"
   ]
  },
  {
   "cell_type": "markdown",
   "metadata": {
    "pycharm": {
     "name": "#%% md\n"
    }
   },
   "source": [
    "# 결측치 제거\n",
    "회사 별 평균을 구하여 결측치 제거"
   ]
  },
  {
   "cell_type": "code",
   "execution_count": 372,
   "metadata": {
    "pycharm": {
     "name": "#%%\n"
    }
   },
   "outputs": [],
   "source": [
    "# 0이 있다면 평균 계산에 영향을 주기 때문에 np.nan으로 대체\n",
    "data.loc[data['Mileage'] == 0, 'Mileage'] = np.nan\n",
    "data.loc[data['Engine'] == 0, 'Mileage'] = np.nan\n",
    "data.loc[data['Power'] == 0, 'Mileage'] = np.nan\n",
    "data.loc[data['Mileage'] == 0, 'Mileage'] = np.nan\n",
    "data.loc[data['Seats'] == 0, 'Mileage'] = np.nan\n",
    "data.drop('New_Price',inplace = True, axis = 1) #결측값이 대부분이기에 분석에 필요없다고 판단"
   ]
  },
  {
   "cell_type": "code",
   "execution_count": 373,
   "metadata": {
    "pycharm": {
     "name": "#%%\n"
    }
   },
   "outputs": [
    {
     "data": {
      "text/plain": [
       "Location             0\n",
       "Year                 0\n",
       "Kilometers_Driven    0\n",
       "Fuel_Type            0\n",
       "Transmission         0\n",
       "Owner_Type           0\n",
       "Mileage              1\n",
       "Engine               0\n",
       "Power                1\n",
       "Seats                0\n",
       "Price                0\n",
       "Brand                0\n",
       "dtype: int64"
      ]
     },
     "execution_count": 373,
     "metadata": {},
     "output_type": "execute_result"
    }
   ],
   "source": [
    "data = data.groupby('Brand').apply(lambda x: x.fillna(x.mean()))\n",
    "data.isnull().sum()"
   ]
  },
  {
   "cell_type": "code",
   "execution_count": 374,
   "metadata": {
    "pycharm": {
     "name": "#%%\n"
    }
   },
   "outputs": [
    {
     "data": {
      "text/plain": [
       "Location             0\n",
       "Year                 0\n",
       "Kilometers_Driven    0\n",
       "Fuel_Type            0\n",
       "Transmission         0\n",
       "Owner_Type           0\n",
       "Mileage              0\n",
       "Engine               0\n",
       "Power                0\n",
       "Seats                0\n",
       "Price                0\n",
       "Brand                0\n",
       "dtype: int64"
      ]
     },
     "execution_count": 374,
     "metadata": {},
     "output_type": "execute_result"
    }
   ],
   "source": [
    "data[data[\"Power\"].isnull()] #Power 와 Mielage 모두 결측치임으로 제거해주었다.\n",
    "data = data.dropna()\n",
    "data.isnull().sum()"
   ]
  },
  {
   "cell_type": "markdown",
   "metadata": {
    "pycharm": {
     "name": "#%% md\n"
    }
   },
   "source": [
    "# 분포 확인"
   ]
  },
  {
   "cell_type": "code",
   "execution_count": 375,
   "metadata": {
    "pycharm": {
     "name": "#%%\n"
    }
   },
   "outputs": [
    {
     "data": {
      "text/html": [
       "<div>\n",
       "<style scoped>\n",
       "    .dataframe tbody tr th:only-of-type {\n",
       "        vertical-align: middle;\n",
       "    }\n",
       "\n",
       "    .dataframe tbody tr th {\n",
       "        vertical-align: top;\n",
       "    }\n",
       "\n",
       "    .dataframe thead th {\n",
       "        text-align: right;\n",
       "    }\n",
       "</style>\n",
       "<table border=\"1\" class=\"dataframe\">\n",
       "  <thead>\n",
       "    <tr style=\"text-align: right;\">\n",
       "      <th></th>\n",
       "      <th>Year</th>\n",
       "      <th>Kilometers_Driven</th>\n",
       "      <th>Mileage</th>\n",
       "      <th>Engine</th>\n",
       "      <th>Power</th>\n",
       "      <th>Seats</th>\n",
       "      <th>Price</th>\n",
       "    </tr>\n",
       "  </thead>\n",
       "  <tbody>\n",
       "    <tr>\n",
       "      <th>count</th>\n",
       "      <td>6018.000000</td>\n",
       "      <td>6.018000e+03</td>\n",
       "      <td>6018.000000</td>\n",
       "      <td>6018.000000</td>\n",
       "      <td>6018.000000</td>\n",
       "      <td>6018.000000</td>\n",
       "      <td>6018.000000</td>\n",
       "    </tr>\n",
       "    <tr>\n",
       "      <th>mean</th>\n",
       "      <td>2013.359089</td>\n",
       "      <td>5.873103e+04</td>\n",
       "      <td>18.328211</td>\n",
       "      <td>1621.013738</td>\n",
       "      <td>113.054212</td>\n",
       "      <td>5.278306</td>\n",
       "      <td>9.480545</td>\n",
       "    </tr>\n",
       "    <tr>\n",
       "      <th>std</th>\n",
       "      <td>3.269284</td>\n",
       "      <td>9.127464e+04</td>\n",
       "      <td>4.161960</td>\n",
       "      <td>600.718922</td>\n",
       "      <td>53.654051</td>\n",
       "      <td>0.805305</td>\n",
       "      <td>11.188535</td>\n",
       "    </tr>\n",
       "    <tr>\n",
       "      <th>min</th>\n",
       "      <td>1998.000000</td>\n",
       "      <td>1.710000e+02</td>\n",
       "      <td>6.400000</td>\n",
       "      <td>72.000000</td>\n",
       "      <td>34.200000</td>\n",
       "      <td>0.000000</td>\n",
       "      <td>0.440000</td>\n",
       "    </tr>\n",
       "    <tr>\n",
       "      <th>25%</th>\n",
       "      <td>2011.000000</td>\n",
       "      <td>3.400000e+04</td>\n",
       "      <td>15.290000</td>\n",
       "      <td>1198.000000</td>\n",
       "      <td>75.000000</td>\n",
       "      <td>5.000000</td>\n",
       "      <td>3.500000</td>\n",
       "    </tr>\n",
       "    <tr>\n",
       "      <th>50%</th>\n",
       "      <td>2014.000000</td>\n",
       "      <td>5.300000e+04</td>\n",
       "      <td>18.200000</td>\n",
       "      <td>1493.000000</td>\n",
       "      <td>94.000000</td>\n",
       "      <td>5.000000</td>\n",
       "      <td>5.640000</td>\n",
       "    </tr>\n",
       "    <tr>\n",
       "      <th>75%</th>\n",
       "      <td>2016.000000</td>\n",
       "      <td>7.300000e+04</td>\n",
       "      <td>21.100000</td>\n",
       "      <td>1984.000000</td>\n",
       "      <td>138.100000</td>\n",
       "      <td>5.000000</td>\n",
       "      <td>9.950000</td>\n",
       "    </tr>\n",
       "    <tr>\n",
       "      <th>max</th>\n",
       "      <td>2019.000000</td>\n",
       "      <td>6.500000e+06</td>\n",
       "      <td>33.540000</td>\n",
       "      <td>5998.000000</td>\n",
       "      <td>560.000000</td>\n",
       "      <td>10.000000</td>\n",
       "      <td>160.000000</td>\n",
       "    </tr>\n",
       "  </tbody>\n",
       "</table>\n",
       "</div>"
      ],
      "text/plain": [
       "              Year  Kilometers_Driven      Mileage       Engine        Power  \\\n",
       "count  6018.000000       6.018000e+03  6018.000000  6018.000000  6018.000000   \n",
       "mean   2013.359089       5.873103e+04    18.328211  1621.013738   113.054212   \n",
       "std       3.269284       9.127464e+04     4.161960   600.718922    53.654051   \n",
       "min    1998.000000       1.710000e+02     6.400000    72.000000    34.200000   \n",
       "25%    2011.000000       3.400000e+04    15.290000  1198.000000    75.000000   \n",
       "50%    2014.000000       5.300000e+04    18.200000  1493.000000    94.000000   \n",
       "75%    2016.000000       7.300000e+04    21.100000  1984.000000   138.100000   \n",
       "max    2019.000000       6.500000e+06    33.540000  5998.000000   560.000000   \n",
       "\n",
       "             Seats        Price  \n",
       "count  6018.000000  6018.000000  \n",
       "mean      5.278306     9.480545  \n",
       "std       0.805305    11.188535  \n",
       "min       0.000000     0.440000  \n",
       "25%       5.000000     3.500000  \n",
       "50%       5.000000     5.640000  \n",
       "75%       5.000000     9.950000  \n",
       "max      10.000000   160.000000  "
      ]
     },
     "execution_count": 375,
     "metadata": {},
     "output_type": "execute_result"
    }
   ],
   "source": [
    "data.describe() #변수 간 범위가 상이하여 스케일링 필요 -> log 변환"
   ]
  },
  {
   "cell_type": "code",
   "execution_count": 376,
   "metadata": {
    "pycharm": {
     "name": "#%%\n"
    }
   },
   "outputs": [],
   "source": [
    "data['log_Power'] = data['Power'].map(lambda x: np.log(x))\n",
    "data['log_Engine'] = data['Engine'].map(lambda x: np.log(x))\n",
    "data['log_Kilometers_Driven'] = data['Kilometers_Driven'].map(lambda x: np.log(x))\n",
    "data['log_Mileage'] = data['Mileage'].map(lambda x: np.log(x))\n",
    "data['log_Price'] = data['Price'].map(lambda x: np.log(x))\n",
    "data.drop(\"Power\",inplace=True,axis = 1)\n",
    "data.drop(\"Engine\",inplace=True,axis = 1)\n",
    "data.drop(\"Kilometers_Driven\",inplace=True,axis = 1)\n",
    "data.drop(\"Mileage\",inplace=True,axis = 1)\n",
    "data.drop(\"Price\",inplace=True,axis = 1)"
   ]
  },
  {
   "cell_type": "code",
   "execution_count": 377,
   "metadata": {
    "pycharm": {
     "name": "#%%\n"
    }
   },
   "outputs": [
    {
     "data": {
      "text/plain": [
       "<AxesSubplot:>"
      ]
     },
     "execution_count": 377,
     "metadata": {},
     "output_type": "execute_result"
    },
    {
     "data": {
      "image/png": "[encoded data removed]",
      "text/plain": [
       "<Figure size 432x288 with 2 Axes>"
      ]
     },
     "metadata": {
      "needs_background": "light"
     },
     "output_type": "display_data"
    }
   ],
   "source": [
    "data.describe()\n",
    "num_cols = ['log_Kilometers_Driven', 'log_Mileage', 'log_Engine', 'log_Power', 'log_Price']\n",
    "sns.heatmap(data = data[num_cols].corr())"
   ]
  },
  {
   "cell_type": "markdown",
   "metadata": {
    "pycharm": {
     "name": "#%% md\n"
    }
   },
   "source": [
    "#### log_Power와 log_Engine 이 log_Price와 큰 상관관계를 보인다."
   ]
  },
  {
   "cell_type": "markdown",
   "metadata": {
    "pycharm": {
     "name": "#%% md\n"
    }
   },
   "source": [
    "## Regression Model"
   ]
  },
  {
   "cell_type": "code",
   "execution_count": 386,
   "metadata": {
    "pycharm": {
     "name": "#%%\n"
    }
   },
   "outputs": [
    {
     "name": "stdout",
     "output_type": "stream",
     "text": [
      "<class 'pandas.core.frame.DataFrame'>\n",
      "Int64Index: 6018 entries, 0 to 6018\n",
      "Data columns (total 12 columns):\n",
      " #   Column                 Non-Null Count  Dtype  \n",
      "---  ------                 --------------  -----  \n",
      " 0   Location               6018 non-null   object \n",
      " 1   Year                   6018 non-null   int64  \n",
      " 2   Fuel_Type              6018 non-null   object \n",
      " 3   Transmission           6018 non-null   object \n",
      " 4   Owner_Type             6018 non-null   object \n",
      " 5   Seats                  6018 non-null   float64\n",
      " 6   Brand                  6018 non-null   object \n",
      " 7   log_Power              6018 non-null   float64\n",
      " 8   log_Engine             6018 non-null   float64\n",
      " 9   log_Kilometers_Driven  6018 non-null   float64\n",
      " 10  log_Mileage            6018 non-null   float64\n",
      " 11  log_Price              6018 non-null   float64\n",
      "dtypes: float64(6), int64(1), object(5)\n",
      "memory usage: 611.2+ KB\n"
     ]
    }
   ],
   "source": [
    "data.info()\n",
    "#범주형 변수 One_hot 인코딩\n",
    "dummy_cols = ['Location', 'Year', 'Fuel_Type', 'Transmission', 'Owner_Type','Seats','Brand']\n",
    "dummy_data = data[dummy_cols]\n",
    "dummy_data['Year'] = dummy_data.Year.astype('str')\n",
    "dummy_data['Seats'] = dummy_data.Seats.astype('int').astype('str')\n",
    "dummy_data = pd.get_dummies(dummy_data, prefix= dummy_cols)\n",
    "dummy_data\n",
    "num_cols = ['log_Power','log_Engine','log_Kilometers_Driven','log_Mileage','log_Price']\n",
    "num_data = data[num_cols]\n",
    "\n",
    "# 범주형 데이터와 수치형 데이터를 합침\n",
    "train = pd.concat([dummy_data, num_data], axis=1)"
   ]
  },
  {
   "cell_type": "code",
   "execution_count": 393,
   "metadata": {
    "pycharm": {
     "name": "#%%\n"
    }
   },
   "outputs": [],
   "source": [
    "from sklearn.model_selection import train_test_split\n",
    "from sklearn.linear_model import LinearRegression\n",
    "from sklearn.metrics import mean_squared_error\n",
    "\n",
    "target = train[\"log_Price\"]\n",
    "feature = train.drop(['log_Price'],axis = 1)\n",
    "#데이터를 train 과 test로 분리\n",
    "x_train, x_test, y_train, y_test = train_test_split(feature, target, test_size=0.2, random_state=10)"
   ]
  },
  {
   "cell_type": "code",
   "execution_count": 394,
   "metadata": {
    "pycharm": {
     "name": "#%%\n"
    }
   },
   "outputs": [
    {
     "data": {
      "text/html": [
       "<div>\n",
       "<style scoped>\n",
       "    .dataframe tbody tr th:only-of-type {\n",
       "        vertical-align: middle;\n",
       "    }\n",
       "\n",
       "    .dataframe tbody tr th {\n",
       "        vertical-align: top;\n",
       "    }\n",
       "\n",
       "    .dataframe thead th {\n",
       "        text-align: right;\n",
       "    }\n",
       "</style>\n",
       "<table border=\"1\" class=\"dataframe\">\n",
       "  <thead>\n",
       "    <tr style=\"text-align: right;\">\n",
       "      <th></th>\n",
       "      <th>Location_Ahmedabad</th>\n",
       "      <th>Location_Bangalore</th>\n",
       "      <th>Location_Chennai</th>\n",
       "      <th>Location_Coimbatore</th>\n",
       "      <th>Location_Delhi</th>\n",
       "      <th>Location_Hyderabad</th>\n",
       "      <th>Location_Jaipur</th>\n",
       "      <th>Location_Kochi</th>\n",
       "      <th>Location_Kolkata</th>\n",
       "      <th>Location_Mumbai</th>\n",
       "      <th>...</th>\n",
       "      <th>Brand_Renault</th>\n",
       "      <th>Brand_Skoda</th>\n",
       "      <th>Brand_Tata</th>\n",
       "      <th>Brand_Toyota</th>\n",
       "      <th>Brand_Volkswagen</th>\n",
       "      <th>Brand_Volvo</th>\n",
       "      <th>log_Power</th>\n",
       "      <th>log_Engine</th>\n",
       "      <th>log_Kilometers_Driven</th>\n",
       "      <th>log_Mileage</th>\n",
       "    </tr>\n",
       "  </thead>\n",
       "  <tbody>\n",
       "    <tr>\n",
       "      <th>0</th>\n",
       "      <td>0</td>\n",
       "      <td>0</td>\n",
       "      <td>0</td>\n",
       "      <td>0</td>\n",
       "      <td>0</td>\n",
       "      <td>0</td>\n",
       "      <td>0</td>\n",
       "      <td>0</td>\n",
       "      <td>0</td>\n",
       "      <td>1</td>\n",
       "      <td>...</td>\n",
       "      <td>0</td>\n",
       "      <td>0</td>\n",
       "      <td>0</td>\n",
       "      <td>0</td>\n",
       "      <td>0</td>\n",
       "      <td>0</td>\n",
       "      <td>4.063198</td>\n",
       "      <td>6.905753</td>\n",
       "      <td>11.184421</td>\n",
       "      <td>3.280911</td>\n",
       "    </tr>\n",
       "    <tr>\n",
       "      <th>1</th>\n",
       "      <td>0</td>\n",
       "      <td>0</td>\n",
       "      <td>0</td>\n",
       "      <td>0</td>\n",
       "      <td>0</td>\n",
       "      <td>0</td>\n",
       "      <td>0</td>\n",
       "      <td>0</td>\n",
       "      <td>0</td>\n",
       "      <td>0</td>\n",
       "      <td>...</td>\n",
       "      <td>0</td>\n",
       "      <td>0</td>\n",
       "      <td>0</td>\n",
       "      <td>0</td>\n",
       "      <td>0</td>\n",
       "      <td>0</td>\n",
       "      <td>4.837868</td>\n",
       "      <td>7.366445</td>\n",
       "      <td>10.621327</td>\n",
       "      <td>2.979095</td>\n",
       "    </tr>\n",
       "    <tr>\n",
       "      <th>2</th>\n",
       "      <td>0</td>\n",
       "      <td>0</td>\n",
       "      <td>1</td>\n",
       "      <td>0</td>\n",
       "      <td>0</td>\n",
       "      <td>0</td>\n",
       "      <td>0</td>\n",
       "      <td>0</td>\n",
       "      <td>0</td>\n",
       "      <td>0</td>\n",
       "      <td>...</td>\n",
       "      <td>0</td>\n",
       "      <td>0</td>\n",
       "      <td>0</td>\n",
       "      <td>0</td>\n",
       "      <td>0</td>\n",
       "      <td>0</td>\n",
       "      <td>4.485260</td>\n",
       "      <td>7.089243</td>\n",
       "      <td>10.736397</td>\n",
       "      <td>2.901422</td>\n",
       "    </tr>\n",
       "    <tr>\n",
       "      <th>3</th>\n",
       "      <td>0</td>\n",
       "      <td>0</td>\n",
       "      <td>1</td>\n",
       "      <td>0</td>\n",
       "      <td>0</td>\n",
       "      <td>0</td>\n",
       "      <td>0</td>\n",
       "      <td>0</td>\n",
       "      <td>0</td>\n",
       "      <td>0</td>\n",
       "      <td>...</td>\n",
       "      <td>0</td>\n",
       "      <td>0</td>\n",
       "      <td>0</td>\n",
       "      <td>0</td>\n",
       "      <td>0</td>\n",
       "      <td>0</td>\n",
       "      <td>4.485936</td>\n",
       "      <td>7.129298</td>\n",
       "      <td>11.373663</td>\n",
       "      <td>3.033510</td>\n",
       "    </tr>\n",
       "    <tr>\n",
       "      <th>4</th>\n",
       "      <td>0</td>\n",
       "      <td>0</td>\n",
       "      <td>0</td>\n",
       "      <td>1</td>\n",
       "      <td>0</td>\n",
       "      <td>0</td>\n",
       "      <td>0</td>\n",
       "      <td>0</td>\n",
       "      <td>0</td>\n",
       "      <td>0</td>\n",
       "      <td>...</td>\n",
       "      <td>0</td>\n",
       "      <td>0</td>\n",
       "      <td>0</td>\n",
       "      <td>0</td>\n",
       "      <td>0</td>\n",
       "      <td>0</td>\n",
       "      <td>4.947340</td>\n",
       "      <td>7.584773</td>\n",
       "      <td>10.613246</td>\n",
       "      <td>2.721295</td>\n",
       "    </tr>\n",
       "    <tr>\n",
       "      <th>...</th>\n",
       "      <td>...</td>\n",
       "      <td>...</td>\n",
       "      <td>...</td>\n",
       "      <td>...</td>\n",
       "      <td>...</td>\n",
       "      <td>...</td>\n",
       "      <td>...</td>\n",
       "      <td>...</td>\n",
       "      <td>...</td>\n",
       "      <td>...</td>\n",
       "      <td>...</td>\n",
       "      <td>...</td>\n",
       "      <td>...</td>\n",
       "      <td>...</td>\n",
       "      <td>...</td>\n",
       "      <td>...</td>\n",
       "      <td>...</td>\n",
       "      <td>...</td>\n",
       "      <td>...</td>\n",
       "      <td>...</td>\n",
       "      <td>...</td>\n",
       "    </tr>\n",
       "    <tr>\n",
       "      <th>6014</th>\n",
       "      <td>0</td>\n",
       "      <td>0</td>\n",
       "      <td>0</td>\n",
       "      <td>0</td>\n",
       "      <td>1</td>\n",
       "      <td>0</td>\n",
       "      <td>0</td>\n",
       "      <td>0</td>\n",
       "      <td>0</td>\n",
       "      <td>0</td>\n",
       "      <td>...</td>\n",
       "      <td>0</td>\n",
       "      <td>0</td>\n",
       "      <td>0</td>\n",
       "      <td>0</td>\n",
       "      <td>0</td>\n",
       "      <td>0</td>\n",
       "      <td>4.304065</td>\n",
       "      <td>7.129298</td>\n",
       "      <td>10.217020</td>\n",
       "      <td>3.346389</td>\n",
       "    </tr>\n",
       "    <tr>\n",
       "      <th>6015</th>\n",
       "      <td>0</td>\n",
       "      <td>0</td>\n",
       "      <td>0</td>\n",
       "      <td>0</td>\n",
       "      <td>0</td>\n",
       "      <td>0</td>\n",
       "      <td>1</td>\n",
       "      <td>0</td>\n",
       "      <td>0</td>\n",
       "      <td>0</td>\n",
       "      <td>...</td>\n",
       "      <td>0</td>\n",
       "      <td>0</td>\n",
       "      <td>0</td>\n",
       "      <td>0</td>\n",
       "      <td>0</td>\n",
       "      <td>0</td>\n",
       "      <td>4.262680</td>\n",
       "      <td>7.021084</td>\n",
       "      <td>11.512925</td>\n",
       "      <td>3.194583</td>\n",
       "    </tr>\n",
       "    <tr>\n",
       "      <th>6016</th>\n",
       "      <td>0</td>\n",
       "      <td>0</td>\n",
       "      <td>0</td>\n",
       "      <td>0</td>\n",
       "      <td>0</td>\n",
       "      <td>0</td>\n",
       "      <td>1</td>\n",
       "      <td>0</td>\n",
       "      <td>0</td>\n",
       "      <td>0</td>\n",
       "      <td>...</td>\n",
       "      <td>0</td>\n",
       "      <td>0</td>\n",
       "      <td>0</td>\n",
       "      <td>0</td>\n",
       "      <td>0</td>\n",
       "      <td>0</td>\n",
       "      <td>4.718499</td>\n",
       "      <td>7.823246</td>\n",
       "      <td>10.915088</td>\n",
       "      <td>2.639057</td>\n",
       "    </tr>\n",
       "    <tr>\n",
       "      <th>6017</th>\n",
       "      <td>0</td>\n",
       "      <td>0</td>\n",
       "      <td>0</td>\n",
       "      <td>0</td>\n",
       "      <td>0</td>\n",
       "      <td>0</td>\n",
       "      <td>0</td>\n",
       "      <td>0</td>\n",
       "      <td>1</td>\n",
       "      <td>0</td>\n",
       "      <td>...</td>\n",
       "      <td>0</td>\n",
       "      <td>0</td>\n",
       "      <td>0</td>\n",
       "      <td>0</td>\n",
       "      <td>0</td>\n",
       "      <td>0</td>\n",
       "      <td>4.206184</td>\n",
       "      <td>6.905753</td>\n",
       "      <td>10.736397</td>\n",
       "      <td>2.939162</td>\n",
       "    </tr>\n",
       "    <tr>\n",
       "      <th>6018</th>\n",
       "      <td>0</td>\n",
       "      <td>0</td>\n",
       "      <td>0</td>\n",
       "      <td>0</td>\n",
       "      <td>0</td>\n",
       "      <td>1</td>\n",
       "      <td>0</td>\n",
       "      <td>0</td>\n",
       "      <td>0</td>\n",
       "      <td>0</td>\n",
       "      <td>...</td>\n",
       "      <td>0</td>\n",
       "      <td>0</td>\n",
       "      <td>0</td>\n",
       "      <td>0</td>\n",
       "      <td>0</td>\n",
       "      <td>0</td>\n",
       "      <td>4.053523</td>\n",
       "      <td>6.841615</td>\n",
       "      <td>10.757903</td>\n",
       "      <td>3.236323</td>\n",
       "    </tr>\n",
       "  </tbody>\n",
       "</table>\n",
       "<p>6018 rows × 87 columns</p>\n",
       "</div>"
      ],
      "text/plain": [
       "      Location_Ahmedabad  Location_Bangalore  Location_Chennai  \\\n",
       "0                      0                   0                 0   \n",
       "1                      0                   0                 0   \n",
       "2                      0                   0                 1   \n",
       "3                      0                   0                 1   \n",
       "4                      0                   0                 0   \n",
       "...                  ...                 ...               ...   \n",
       "6014                   0                   0                 0   \n",
       "6015                   0                   0                 0   \n",
       "6016                   0                   0                 0   \n",
       "6017                   0                   0                 0   \n",
       "6018                   0                   0                 0   \n",
       "\n",
       "      Location_Coimbatore  Location_Delhi  Location_Hyderabad  \\\n",
       "0                       0               0                   0   \n",
       "1                       0               0                   0   \n",
       "2                       0               0                   0   \n",
       "3                       0               0                   0   \n",
       "4                       1               0                   0   \n",
       "...                   ...             ...                 ...   \n",
       "6014                    0               1                   0   \n",
       "6015                    0               0                   0   \n",
       "6016                    0               0                   0   \n",
       "6017                    0               0                   0   \n",
       "6018                    0               0                   1   \n",
       "\n",
       "      Location_Jaipur  Location_Kochi  Location_Kolkata  Location_Mumbai  ...  \\\n",
       "0                   0               0                 0                1  ...   \n",
       "1                   0               0                 0                0  ...   \n",
       "2                   0               0                 0                0  ...   \n",
       "3                   0               0                 0                0  ...   \n",
       "4                   0               0                 0                0  ...   \n",
       "...               ...             ...               ...              ...  ...   \n",
       "6014                0               0                 0                0  ...   \n",
       "6015                1               0                 0                0  ...   \n",
       "6016                1               0                 0                0  ...   \n",
       "6017                0               0                 1                0  ...   \n",
       "6018                0               0                 0                0  ...   \n",
       "\n",
       "      Brand_Renault  Brand_Skoda  Brand_Tata  Brand_Toyota  Brand_Volkswagen  \\\n",
       "0                 0            0           0             0                 0   \n",
       "1                 0            0           0             0                 0   \n",
       "2                 0            0           0             0                 0   \n",
       "3                 0            0           0             0                 0   \n",
       "4                 0            0           0             0                 0   \n",
       "...             ...          ...         ...           ...               ...   \n",
       "6014              0            0           0             0                 0   \n",
       "6015              0            0           0             0                 0   \n",
       "6016              0            0           0             0                 0   \n",
       "6017              0            0           0             0                 0   \n",
       "6018              0            0           0             0                 0   \n",
       "\n",
       "      Brand_Volvo  log_Power  log_Engine  log_Kilometers_Driven  log_Mileage  \n",
       "0               0   4.063198    6.905753              11.184421     3.280911  \n",
       "1               0   4.837868    7.366445              10.621327     2.979095  \n",
       "2               0   4.485260    7.089243              10.736397     2.901422  \n",
       "3               0   4.485936    7.129298              11.373663     3.033510  \n",
       "4               0   4.947340    7.584773              10.613246     2.721295  \n",
       "...           ...        ...         ...                    ...          ...  \n",
       "6014            0   4.304065    7.129298              10.217020     3.346389  \n",
       "6015            0   4.262680    7.021084              11.512925     3.194583  \n",
       "6016            0   4.718499    7.823246              10.915088     2.639057  \n",
       "6017            0   4.206184    6.905753              10.736397     2.939162  \n",
       "6018            0   4.053523    6.841615              10.757903     3.236323  \n",
       "\n",
       "[6018 rows x 87 columns]"
      ]
     },
     "execution_count": 394,
     "metadata": {},
     "output_type": "execute_result"
    }
   ],
   "source": [
    "feature"
   ]
  },
  {
   "cell_type": "code",
   "execution_count": 395,
   "metadata": {
    "pycharm": {
     "name": "#%%\n"
    }
   },
   "outputs": [],
   "source": [
    "lr = LinearRegression()\n",
    "lr.fit(x_train,y_train)\n",
    "lr_pred_train = lr.predict(x_train)\n",
    "lr_pred_test = lr.predict(x_test)"
   ]
  },
  {
   "cell_type": "code",
   "execution_count": 392,
   "metadata": {
    "pycharm": {
     "name": "#%%\n"
    }
   },
   "outputs": [
    {
     "name": "stdout",
     "output_type": "stream",
     "text": [
      "-565623262596.3181\n",
      "[ 4.93841330e+11  4.93841330e+11  4.93841330e+11  4.93841330e+11\n",
      "  4.93841330e+11  4.93841330e+11  4.93841330e+11  4.93841330e+11\n",
      "  4.93841330e+11  4.93841330e+11  4.93841330e+11 -1.17942143e+10\n",
      " -1.17942143e+10 -1.17942143e+10 -1.17942143e+10 -1.17942143e+10\n",
      " -1.17942143e+10 -1.17942143e+10 -1.17942143e+10 -1.17942143e+10\n",
      " -1.17942143e+10 -1.17942143e+10 -1.17942143e+10 -1.17942143e+10\n",
      " -1.17942143e+10 -1.17942143e+10 -1.17942143e+10 -1.17942143e+10\n",
      " -1.17942143e+10 -1.17942143e+10 -1.17942143e+10 -1.17942143e+10\n",
      " -1.17942143e+10  1.22343020e+10  1.22343020e+10  1.22343020e+10\n",
      "  1.22343020e+10  1.22343020e+10  7.61289511e+09  7.61289511e+09\n",
      "  7.30591615e+10  7.30591615e+10  7.30591615e+10  7.30591615e+10\n",
      " -1.34889750e+10 -1.34889750e+10 -1.34889750e+10 -1.34889750e+10\n",
      " -1.34889750e+10 -1.34889750e+10 -1.34889750e+10 -1.34889750e+10\n",
      " -1.34889750e+10  4.15876317e+09  4.15876317e+09  4.15876317e+09\n",
      "  4.15876317e+09  4.15876317e+09  4.15876317e+09  4.15876317e+09\n",
      "  4.15876317e+09  4.15876317e+09  4.15876317e+09  4.15876317e+09\n",
      "  4.15876317e+09  4.15876317e+09  4.15876317e+09  4.15876317e+09\n",
      "  4.15876317e+09  4.15876317e+09  4.15876317e+09  4.15876317e+09\n",
      "  4.15876317e+09  4.15876317e+09  4.15876317e+09  4.15876317e+09\n",
      "  4.15876317e+09  4.15876317e+09  4.15876317e+09  4.15876317e+09\n",
      "  4.15876317e+09  4.15876317e+09  4.15876317e+09  7.30102539e-01\n",
      "  3.26787949e-01 -7.58514404e-02 -1.57969475e-01]\n"
     ]
    }
   ],
   "source": [
    "print(lr.intercept_)\n",
    "print(lr.coef_)"
   ]
  },
  {
   "cell_type": "code",
   "execution_count": 396,
   "metadata": {
    "pycharm": {
     "name": "#%%\n"
    }
   },
   "outputs": [],
   "source": [
    "model_train = lr.predict(x_train)\n",
    "model_test = lr.predict(x_test)"
   ]
  },
  {
   "cell_type": "code",
   "execution_count": 399,
   "metadata": {
    "pycharm": {
     "name": "#%%\n"
    }
   },
   "outputs": [
    {
     "name": "stdout",
     "output_type": "stream",
     "text": [
      "Linear Regression train R-squared:  0.9392843197088265\n",
      "Linear Regression test R-squared :  0.9343387750752155\n",
      "Linear Regression train MSE      :  0.04609371865910337\n",
      "Linear Regression test MSE       :  0.051343218422370704\n"
     ]
    }
   ],
   "source": [
    "# R-squared\n",
    "print('Linear Regression train R-squared: ',lr.score(x_train, y_train))\n",
    "print('Linear Regression test R-squared : ',lr.score(x_test, y_test))\n",
    "\n",
    "# MSE\n",
    "print('Linear Regression train MSE      : ',mean_squared_error(y_train, lr_pred_train))\n",
    "print('Linear Regression test MSE       : ',mean_squared_error(y_test, lr_pred_test))"
   ]
  },
  {
   "cell_type": "code",
   "execution_count": 400,
   "metadata": {
    "pycharm": {
     "name": "#%%\n"
    }
   },
   "outputs": [
    {
     "data": {
      "image/png": "[encoded data removed]",
      "text/plain": [
       "<Figure size 432x288 with 1 Axes>"
      ]
     },
     "metadata": {
      "needs_background": "light"
     },
     "output_type": "display_data"
    }
   ],
   "source": [
    "plt.scatter(np.exp(y_test), np.exp(lr_pred_test))\n",
    "plt.plot([-1, 80], [-1, 80], 'r')\n",
    "plt.xlabel('y')\n",
    "plt.ylabel('pred_y')\n",
    "plt.title('Linear Regression (R-squared=0.93)')\n",
    "plt.show()"
   ]
  },
  {
   "cell_type": "markdown",
   "metadata": {
    "pycharm": {
     "name": "#%% md\n"
    }
   },
   "source": [
    "## Ridge Regression"
   ]
  },
  {
   "cell_type": "code",
   "execution_count": 403,
   "metadata": {
    "pycharm": {
     "name": "#%%\n"
    }
   },
   "outputs": [],
   "source": [
    "from sklearn.linear_model import Ridge\n",
    "\n",
    "ridge = Ridge(alpha = 10) # 10만큼의 규제적용 클수록 규제를 가하는 정도가 강해짐\n",
    "ridge.fit(x_train, y_train)\n",
    "ridge_pred_train = ridge.predict(x_train)\n",
    "ridge_pred_test = ridge.predict(x_test)"
   ]
  },
  {
   "cell_type": "code",
   "execution_count": 406,
   "metadata": {
    "pycharm": {
     "name": "#%%\n"
    }
   },
   "outputs": [
    {
     "name": "stdout",
     "output_type": "stream",
     "text": [
      "-3.1173134408747862\n",
      "[ 0.01251597  0.13569958  0.02989885  0.14403728 -0.0711347   0.1335956\n",
      " -0.04370269  0.01808567 -0.24294933 -0.06983937 -0.04620686 -0.32464481\n",
      " -0.1577439  -0.15293427 -0.19715578 -0.42383426 -0.41255605 -0.46266203\n",
      " -0.61690764 -0.39566119 -0.32107855 -0.27349395 -0.17148948 -0.07485581\n",
      "  0.04123695  0.17791058  0.29436142  0.39610126  0.50880079  0.5864015\n",
      "  0.6626267   0.69781375  0.61976477 -0.0529312   0.09342608  0.0951683\n",
      " -0.01234776 -0.12331542  0.07412042 -0.07412042  0.08466107 -0.00535129\n",
      "  0.01066085 -0.08997063 -0.00882743 -0.00682277  0.11805275  0.01229796\n",
      " -0.12958197 -0.00771205  0.01144099  0.02693461 -0.01578209  0.0123457\n",
      "  0.33326131  0.30410177  0.06896538 -0.4111857  -0.22453328 -0.25554118\n",
      " -0.02053792 -0.18527798 -0.16527316 -0.13603179 -0.07163168 -0.02350413\n",
      "  0.29257836  0.04118645  0.09810749  0.59241318 -0.33132652 -0.07661588\n",
      "  0.39013053  0.45402757  0.01669333 -0.1394507   0.2022965  -0.12780458\n",
      " -0.13758931 -0.49616689  0.04000489 -0.15577763  0.11213587  0.80608344\n",
      "  0.34748118 -0.12162043 -0.06997695]\n"
     ]
    }
   ],
   "source": [
    "intercept = ridge.intercept_\n",
    "coef = ridge.coef_\n",
    "print(intercept)\n",
    "print(coef)"
   ]
  },
  {
   "cell_type": "code",
   "execution_count": 408,
   "metadata": {
    "pycharm": {
     "name": "#%%\n"
    }
   },
   "outputs": [
    {
     "name": "stdout",
     "output_type": "stream",
     "text": [
      "Ridge train R-squared:  0.932177304856491\n",
      "Ridge test R-squared :  0.9213769967487342\n",
      "Ridge train MSE      :  0.05148917402645848\n",
      "Ridge test MSE       :  0.06147856719969267\n"
     ]
    }
   ],
   "source": [
    "# R-squared\n",
    "print('Ridge train R-squared: ',ridge.score(x_train, y_train))\n",
    "print('Ridge test R-squared : ',ridge.score(x_test, y_test))\n",
    "# MSE\n",
    "print('Ridge train MSE      : ',mean_squared_error(y_train, ridge_pred_train))\n",
    "print('Ridge test MSE       : ',mean_squared_error(y_test, ridge_pred_test))"
   ]
  },
  {
   "cell_type": "code",
   "execution_count": 410,
   "metadata": {
    "pycharm": {
     "name": "#%%\n"
    }
   },
   "outputs": [
    {
     "data": {
      "image/png": "[encoded data removed]",
      "text/plain": [
       "<Figure size 432x288 with 1 Axes>"
      ]
     },
     "metadata": {
      "needs_background": "light"
     },
     "output_type": "display_data"
    }
   ],
   "source": [
    "plt.scatter(np.exp(y_test), np.exp(ridge_pred_test))\n",
    "plt.plot([-1, 80], [-1, 80], 'r')\n",
    "plt.xlabel('y')\n",
    "plt.ylabel('pred_y')\n",
    "plt.title('Ridge (R-squared=0.92)')\n",
    "plt.show()"
   ]
  },
  {
   "cell_type": "markdown",
   "metadata": {
    "pycharm": {
     "name": "#%% md\n"
    }
   },
   "source": [
    "## Lasso Regression"
   ]
  },
  {
   "cell_type": "code",
   "execution_count": 412,
   "metadata": {
    "pycharm": {
     "name": "#%%\n"
    }
   },
   "outputs": [],
   "source": [
    "from sklearn.linear_model import Lasso\n",
    "\n",
    "lasso = Lasso(alpha = 0.001)# 10만큼의 규제적용 클수록 규제를 가하는 정도가 강해짐\n",
    "lasso.fit(x_train, y_train)\n",
    "lasso_pred_train = lasso.predict(x_train)\n",
    "lasso_pred_test = lasso.predict(x_test)"
   ]
  },
  {
   "cell_type": "code",
   "execution_count": 414,
   "metadata": {
    "pycharm": {
     "name": "#%%\n"
    }
   },
   "outputs": [
    {
     "name": "stdout",
     "output_type": "stream",
     "text": [
      "-3.9296913511104212\n",
      "[ 0.00000000e+00  1.14778441e-01  7.86156237e-03  1.25449707e-01\n",
      " -6.57950349e-02  1.25112867e-01 -3.79398083e-02  0.00000000e+00\n",
      " -2.41378569e-01 -7.24415892e-02 -4.81617625e-02 -0.00000000e+00\n",
      " -0.00000000e+00 -0.00000000e+00 -0.00000000e+00 -2.79192677e-01\n",
      " -2.40904537e-01 -3.51885427e-01 -5.50383032e-01 -2.81447876e-01\n",
      " -2.07087214e-01 -1.57110457e-01 -5.86514825e-02  0.00000000e+00\n",
      "  1.21620525e-01  2.62172718e-01  3.84151365e-01  4.87865757e-01\n",
      "  6.04442188e-01  6.80676179e-01  7.61248037e-01  8.05860344e-01\n",
      "  7.42395507e-01 -0.00000000e+00  1.10149579e-01  0.00000000e+00\n",
      "  0.00000000e+00 -9.08112787e-02  1.47306451e-01 -0.00000000e+00\n",
      "  7.29905269e-02 -0.00000000e+00  0.00000000e+00 -6.12582755e-02\n",
      " -0.00000000e+00 -0.00000000e+00  0.00000000e+00  0.00000000e+00\n",
      " -1.49819940e-01  0.00000000e+00 -0.00000000e+00  0.00000000e+00\n",
      " -0.00000000e+00  0.00000000e+00  4.00201240e-01  3.58958427e-01\n",
      "  0.00000000e+00 -2.94429316e-01 -0.00000000e+00 -3.18742801e-02\n",
      " -0.00000000e+00 -6.23080413e-02 -7.12042391e-02 -2.92444375e-02\n",
      " -0.00000000e+00 -0.00000000e+00  3.00424871e-01  0.00000000e+00\n",
      "  0.00000000e+00  6.99229440e-01 -2.22255732e-01  2.53673077e-02\n",
      "  4.62594639e-01  5.14315025e-01  0.00000000e+00 -0.00000000e+00\n",
      "  7.54541064e-02 -0.00000000e+00 -2.23819824e-02 -3.80510258e-01\n",
      "  1.27236075e-01 -3.32165114e-02  1.62552062e-04  8.84930860e-01\n",
      "  3.41172060e-01 -1.16229652e-01 -6.75168292e-03]\n"
     ]
    }
   ],
   "source": [
    "intercept = lasso.intercept_\n",
    "coef = lasso.coef_\n",
    "print(intercept)\n",
    "print(coef)"
   ]
  },
  {
   "cell_type": "code",
   "execution_count": 415,
   "metadata": {
    "pycharm": {
     "name": "#%%\n"
    }
   },
   "outputs": [
    {
     "name": "stdout",
     "output_type": "stream",
     "text": [
      "Lasso train R-squared:  0.9284673772406665\n",
      "Lasso test R-squared :  0.9157952904629981\n",
      "Lasso train MSE      :  0.05430565172957182\n",
      "Lasso test MSE       :  0.06584313343077279\n"
     ]
    }
   ],
   "source": [
    "# R-squared\n",
    "print('Lasso train R-squared: ',lasso.score(x_train, y_train))\n",
    "print('Lasso test R-squared : ',lasso.score(x_test, y_test))\n",
    "# MSE\n",
    "print('Lasso train MSE      : ',mean_squared_error(y_train, lasso_pred_train))\n",
    "print('Lasso test MSE       : ',mean_squared_error(y_test, lasso_pred_test))"
   ]
  },
  {
   "cell_type": "code",
   "execution_count": 417,
   "metadata": {
    "pycharm": {
     "name": "#%%\n"
    }
   },
   "outputs": [
    {
     "data": {
      "image/png": "[encoded data removed]",
      "text/plain": [
       "<Figure size 432x288 with 1 Axes>"
      ]
     },
     "metadata": {
      "needs_background": "light"
     },
     "output_type": "display_data"
    }
   ],
   "source": [
    "plt.scatter(np.exp(y_test), np.exp(lasso_pred_test))\n",
    "plt.plot([-1, 80], [-1, 80], 'r')\n",
    "plt.xlabel('y')\n",
    "plt.ylabel('pred_y')\n",
    "plt.title('Lasso (R-squared=0.92)')\n",
    "plt.show()"
   ]
  },
  {
   "cell_type": "code",
   "execution_count": 419,
   "metadata": {
    "pycharm": {
     "name": "#%%\n"
    }
   },
   "outputs": [],
   "source": [
    "from sklearn.linear_model import ElasticNet\n",
    "\n",
    "elasticNet = ElasticNet(alpha=0.01, l1_ratio=0.5)\n",
    "elasticNet.fit(x_train, y_train)\n",
    "elasticNet_pred_train = elasticNet.predict(x_train)\n",
    "elasticNet_pred_test = elasticNet.predict(x_test)"
   ]
  },
  {
   "cell_type": "code",
   "execution_count": 420,
   "metadata": {
    "pycharm": {
     "name": "#%%\n"
    }
   },
   "outputs": [
    {
     "name": "stdout",
     "output_type": "stream",
     "text": [
      "-2.0590395562868733\n",
      "[ 0.          0.06716647 -0.          0.19268304 -0.          0.08982622\n",
      " -0.          0.07246218 -0.21161306 -0.04379395 -0.01000652 -0.\n",
      " -0.         -0.         -0.         -0.         -0.         -0.\n",
      " -0.15169919 -0.0632103  -0.12549505 -0.1416638  -0.10356521 -0.06595691\n",
      " -0.01568606  0.          0.09982425  0.18777722  0.28435145  0.31644237\n",
      "  0.34557186  0.27642574  0.06424932  0.          0.14343481  0.\n",
      " -0.         -0.19529321  0.1474524  -0.14347136  0.13670107 -0.\n",
      " -0.         -0.          0.         -0.          0.          0.\n",
      " -0.09284249  0.          0.          0.         -0.         -0.\n",
      "  0.10229567  0.04415135  0.         -0.12012608 -0.         -0.\n",
      " -0.         -0.         -0.03812467 -0.         -0.         -0.\n",
      "  0.          0.          0.          0.12441115 -0.06673211  0.01956741\n",
      "  0.19604298  0.          0.         -0.          0.          0.\n",
      " -0.         -0.17602269  0.10611059 -0.          0.          1.01423132\n",
      "  0.20664124 -0.22916676  0.        ]\n"
     ]
    }
   ],
   "source": [
    "intercept = elasticNet.intercept_\n",
    "coef = elasticNet.coef_\n",
    "print(intercept)\n",
    "print(coef)"
   ]
  },
  {
   "cell_type": "code",
   "execution_count": 422,
   "metadata": {
    "pycharm": {
     "name": "#%%\n"
    }
   },
   "outputs": [
    {
     "name": "stdout",
     "output_type": "stream",
     "text": [
      "ElasticNet train R-squared:  0.8713113996198807\n",
      "ElasticNet test R-squared :  0.8596226733807053\n",
      "ElasticNet train MSE      :  0.09769693944147946\n",
      "ElasticNet test MSE       :  0.10976681824652347\n"
     ]
    }
   ],
   "source": [
    "# R-squared\n",
    "print('ElasticNet train R-squared: ',elasticNet.score(x_train, y_train))\n",
    "print('ElasticNet test R-squared : ',elasticNet.score(x_test, y_test))\n",
    "# MSE\n",
    "print('ElasticNet train MSE      : ',mean_squared_error(y_train, elasticNet_pred_train))\n",
    "print('ElasticNet test MSE       : ',mean_squared_error(y_test, elasticNet_pred_test))"
   ]
  },
  {
   "cell_type": "code",
   "execution_count": 424,
   "metadata": {
    "pycharm": {
     "name": "#%%\n"
    }
   },
   "outputs": [
    {
     "data": {
      "image/png": "[encoded data removed]",
      "text/plain": [
       "<Figure size 432x288 with 1 Axes>"
      ]
     },
     "metadata": {
      "needs_background": "light"
     },
     "output_type": "display_data"
    }
   ],
   "source": [
    "plt.scatter(np.exp(y_test), np.exp(elasticNet_pred_test))\n",
    "plt.plot([-1, 80], [-1, 80], 'r')\n",
    "plt.xlabel('y')\n",
    "plt.ylabel('pred_y')\n",
    "plt.title('ElasticNet (R-squared=0.88)')\n",
    "plt.show()"
   ]
  },
  {
   "cell_type": "markdown",
   "metadata": {
    "pycharm": {
     "name": "#%% md\n"
    }
   },
   "source": [
    "## 모델 평가\n",
    "\n",
    "|**모델의 종류**      |**R-squared**|**MSE**|\n",
    "|:---------------------:|:---:|:---:|\n",
    "|**Linear Regression**|0.9343|0.0513|\n",
    "|**Ridge**            |0.9214|0.0615|\n",
    "|**Lasso**            | 0.9158|0.0658|\n",
    "|**ElasticNet**       |0.8596|0.1097|\n",
    "\n",
    "Linear Regression, Ridge, Lasso, ElasticNet 순으로 모델의 성능이 좋다는 것을 확인할 수 있다."
   ]
  },
  {
   "cell_type": "markdown",
   "metadata": {
    "pycharm": {
     "name": "#%% md\n"
    }
   },
   "source": [
    "# 회귀분석 가정 검토"
   ]
  },
  {
   "cell_type": "markdown",
   "metadata": {
    "pycharm": {
     "name": "#%% md\n"
    }
   },
   "source": [
    "## 설명변수와 종속변수 간 선형성"
   ]
  },
  {
   "cell_type": "code",
   "execution_count": 428,
   "metadata": {
    "pycharm": {
     "name": "#%%\n"
    }
   },
   "outputs": [
    {
     "data": {
      "text/plain": [
       "<seaborn.axisgrid.PairGrid at 0x15642ec2850>"
      ]
     },
     "execution_count": 428,
     "metadata": {},
     "output_type": "execute_result"
    },
    {
     "data": {
      "image/png": "[encoded data removed]",
      "text/plain": [
       "<Figure size 900x900 with 30 Axes>"
      ]
     },
     "metadata": {
      "needs_background": "light"
     },
     "output_type": "display_data"
    }
   ],
   "source": [
    "sns.pairplot(num_data)"
   ]
  },
  {
   "cell_type": "markdown",
   "metadata": {
    "pycharm": {
     "name": "#%% md\n"
    }
   },
   "source": [
    "설명변수와 종속변수 간 선형성을 판단한 결과 서로 선형성이 존재한다는 것을 확인할 수 있다."
   ]
  },
  {
   "cell_type": "markdown",
   "metadata": {
    "pycharm": {
     "name": "#%% md\n"
    }
   },
   "source": [
    "## 잔차의 정규성"
   ]
  },
  {
   "cell_type": "code",
   "execution_count": 429,
   "metadata": {
    "pycharm": {
     "name": "#%%\n"
    }
   },
   "outputs": [
    {
     "data": {
      "text/plain": [
       "[<matplotlib.lines.Line2D at 0x156471241c0>]"
      ]
     },
     "execution_count": 429,
     "metadata": {},
     "output_type": "execute_result"
    },
    {
     "data": {
      "image/png": "[encoded data removed]",
      "text/plain": [
       "<Figure size 432x288 with 1 Axes>"
      ]
     },
     "metadata": {
      "needs_background": "light"
     },
     "output_type": "display_data"
    }
   ],
   "source": [
    "import scipy.stats\n",
    "\n",
    "# 잔차 = 실제값 - 예측값 \n",
    "residual = y_test - lr_pred_test\n",
    "\n",
    "sr = scipy.stats.zscore(residual)\n",
    "(x, y), _ = scipy.stats.probplot(sr)\n",
    "\n",
    "# 잔차의 정규성 \n",
    "sns.scatterplot(x, y)\n",
    "plt.plot([-5, 5], [-5, 5], '--', color='red')"
   ]
  },
  {
   "cell_type": "markdown",
   "metadata": {
    "pycharm": {
     "name": "#%% md\n"
    }
   },
   "source": [
    "잔차의 분포가 정규분포와 비슷한 형태이기 때문에 잔차의 정규성이 만족한다고 할 수 있다."
   ]
  },
  {
   "cell_type": "markdown",
   "metadata": {
    "pycharm": {
     "name": "#%% md\n"
    }
   },
   "source": [
    "## 잔차의 등분산성"
   ]
  },
  {
   "cell_type": "code",
   "execution_count": 430,
   "metadata": {
    "pycharm": {
     "name": "#%%\n"
    }
   },
   "outputs": [
    {
     "data": {
      "image/png": "[encoded data removed]",
      "text/plain": [
       "<Figure size 432x288 with 1 Axes>"
      ]
     },
     "metadata": {
      "needs_background": "light"
     },
     "output_type": "display_data"
    }
   ],
   "source": [
    "# 잔차의 등분산성 \n",
    "sns.regplot(lr_pred_test, np.sqrt(np.abs(sr)), lowess=True, line_kws={'color': 'red'})\n",
    "plt.xlim(-1,5)\n",
    "plt.ylim(-1,5)\n",
    "plt.show()"
   ]
  },
  {
   "cell_type": "markdown",
   "metadata": {
    "pycharm": {
     "name": "#%% md\n"
    }
   },
   "source": [
    "모든 값들에 대하여 잔차의 분산이 동일하다는 가정하에 빨간 선이 수평에 가까운 것을 보아 잔차의 등분산성이 만족한다."
   ]
  },
  {
   "cell_type": "markdown",
   "metadata": {
    "pycharm": {
     "name": "#%% md\n"
    }
   },
   "source": [
    "## 다중공선성"
   ]
  },
  {
   "cell_type": "code",
   "execution_count": 432,
   "metadata": {
    "pycharm": {
     "name": "#%%\n"
    }
   },
   "outputs": [
    {
     "data": {
      "text/html": [
       "<div>\n",
       "<style scoped>\n",
       "    .dataframe tbody tr th:only-of-type {\n",
       "        vertical-align: middle;\n",
       "    }\n",
       "\n",
       "    .dataframe tbody tr th {\n",
       "        vertical-align: top;\n",
       "    }\n",
       "\n",
       "    .dataframe thead th {\n",
       "        text-align: right;\n",
       "    }\n",
       "</style>\n",
       "<table border=\"1\" class=\"dataframe\">\n",
       "  <thead>\n",
       "    <tr style=\"text-align: right;\">\n",
       "      <th></th>\n",
       "      <th>컬럼</th>\n",
       "      <th>VIF</th>\n",
       "    </tr>\n",
       "  </thead>\n",
       "  <tbody>\n",
       "    <tr>\n",
       "      <th>0</th>\n",
       "      <td>log_Kilometers_Driven</td>\n",
       "      <td>1.090969</td>\n",
       "    </tr>\n",
       "    <tr>\n",
       "      <th>1</th>\n",
       "      <td>log_Mileage</td>\n",
       "      <td>1.819446</td>\n",
       "    </tr>\n",
       "    <tr>\n",
       "      <th>2</th>\n",
       "      <td>log_Engine</td>\n",
       "      <td>5.672181</td>\n",
       "    </tr>\n",
       "    <tr>\n",
       "      <th>3</th>\n",
       "      <td>log_Power</td>\n",
       "      <td>4.742945</td>\n",
       "    </tr>\n",
       "  </tbody>\n",
       "</table>\n",
       "</div>"
      ],
      "text/plain": [
       "                      컬럼       VIF\n",
       "0  log_Kilometers_Driven  1.090969\n",
       "1            log_Mileage  1.819446\n",
       "2             log_Engine  5.672181\n",
       "3              log_Power  4.742945"
      ]
     },
     "execution_count": 432,
     "metadata": {},
     "output_type": "execute_result"
    }
   ],
   "source": [
    "from statsmodels.formula.api import ols\n",
    "from statsmodels.stats.outliers_influence import variance_inflation_factor # VIF 계산 모델\n",
    "model = ols('log_Price ~ log_Kilometers_Driven + log_Mileage + log_Engine + log_Power',\n",
    "            num_data)\n",
    "\n",
    "res = model.fit()\n",
    "\n",
    "pd.DataFrame({'컬럼': column, 'VIF': variance_inflation_factor(model.exog, i)} \n",
    "             for i, column in enumerate(model.exog_names)\n",
    "             if column != 'Intercept')"
   ]
  },
  {
   "cell_type": "markdown",
   "metadata": {
    "pycharm": {
     "name": "#%% md\n"
    }
   },
   "source": [
    "다중공선성의 문제를 가지는 변수 없음"
   ]
  }
 ],
 "metadata": {
  "colab": {
   "collapsed_sections": [],
   "name": "Regression_과제2",
   "provenance": []
  },
  "kernelspec": {
   "display_name": "Python 3 (ipykernel)",
   "language": "python",
   "name": "python3"
  },
  "language_info": {
   "codemirror_mode": {
    "name": "ipython",
    "version": 3
   },
   "file_extension": ".py",
   "mimetype": "text/x-python",
   "name": "python",
   "nbconvert_exporter": "python",
   "pygments_lexer": "ipython3",
   "version": "3.9.12"
  }
 },
 "nbformat": 4,
 "nbformat_minor": 1
}
