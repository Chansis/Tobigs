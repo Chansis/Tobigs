{
 "cells": [
  {
   "cell_type": "markdown",
   "id": "00493e77",
   "metadata": {
    "pycharm": {
     "name": "#%% md\n"
    }
   },
   "source": [
    "> # Neural Network Basic - Week3 과제\n"
   ]
  },
  {
   "cell_type": "markdown",
   "id": "747656a3",
   "metadata": {
    "pycharm": {
     "name": "#%% md\n"
    }
   },
   "source": [
    "## Import Library"
   ]
  },
  {
   "cell_type": "code",
   "execution_count": 13,
   "id": "2d4be987",
   "metadata": {
    "pycharm": {
     "name": "#%%\n"
    }
   },
   "outputs": [],
   "source": [
    "import numpy as np\n",
    "from matplotlib import pyplot as plt\n",
    "from mnist import load_mnist"
   ]
  },
  {
   "cell_type": "markdown",
   "id": "bbd9ddbb",
   "metadata": {
    "pycharm": {
     "name": "#%% md\n"
    }
   },
   "source": [
    "## Load Dataset\n",
    "- MNIST "
   ]
  },
  {
   "cell_type": "code",
   "execution_count": 14,
   "id": "2813d656",
   "metadata": {
    "pycharm": {
     "name": "#%%\n"
    }
   },
   "outputs": [],
   "source": [
    "(X_train, Y_train), (X_test, Y_test) = \\\n",
    "    load_mnist(normalize=True, one_hot_label=False)"
   ]
  },
  {
   "cell_type": "code",
   "execution_count": 15,
   "id": "2bd1d69a",
   "metadata": {
    "pycharm": {
     "name": "#%%\n"
    }
   },
   "outputs": [
    {
     "name": "stdout",
     "output_type": "stream",
     "text": [
      "X_train shape: (60000, 784)\n",
      "X_test shape: (10000, 784)\n",
      "Y_train shape: (60000,)\n",
      "Y_train shape: (10000,)\n"
     ]
    }
   ],
   "source": [
    "print(f'X_train shape: {X_train.shape}')\n",
    "print(f'X_test shape: {X_test.shape}')\n",
    "print(f'Y_train shape: {Y_train.shape}')\n",
    "print(f'Y_train shape: {Y_test.shape}')"
   ]
  },
  {
   "cell_type": "markdown",
   "id": "4581cc2e",
   "metadata": {
    "pycharm": {
     "name": "#%% md\n"
    }
   },
   "source": [
    "## Activation Function \n",
    "- sigmoid & relu : hidden layer activation function \n",
    "- softmax : output layer activation function "
   ]
  },
  {
   "cell_type": "code",
   "execution_count": 25,
   "id": "a147a2b7",
   "metadata": {
    "pycharm": {
     "name": "#%%\n"
    }
   },
   "outputs": [],
   "source": [
    "class sigmoid:\n",
    "    # sigmoid 함수를 작성하세요 \n",
    "    def forward(x):\n",
    "        output = 1/(1+np.exp(-x))\n",
    "        return output\n",
    "    \n",
    "    # sigmoid 함수의 미분을 작성하세요\n",
    "    def backward(x):\n",
    "        output = 1/(1+np.exp(-x))\n",
    "        return output * (1- output)"
   ]
  },
  {
   "cell_type": "code",
   "execution_count": 26,
   "id": "f37afa8d",
   "metadata": {
    "pycharm": {
     "name": "#%%\n"
    }
   },
   "outputs": [],
   "source": [
    "class relu:\n",
    "    # relu 함수를 작성하세요\n",
    "    def forward(x):\n",
    "        if x > 0:\n",
    "            output = x;\n",
    "        elif x <= 0:\n",
    "            output = 0;            \n",
    "        return output\n",
    "    \n",
    "    # relu 함수의 미분을 작성하세요\n",
    "    def backward(x):\n",
    "        if x > 0:\n",
    "            output = 1;\n",
    "        elif x <= 0:\n",
    "            output = 0;  \n",
    "        return output"
   ]
  },
  {
   "cell_type": "code",
   "execution_count": 27,
   "id": "cb44b346",
   "metadata": {
    "pycharm": {
     "name": "#%%\n"
    }
   },
   "outputs": [],
   "source": [
    "class softmax:\n",
    "    def forward(z):\n",
    "        y = []\n",
    "        for zi in z:\n",
    "            c = np.max(zi)\n",
    "            exp_zi = np.exp(zi-c)\n",
    "            sum_exp_zi = np.sum(exp_zi)\n",
    "            yi = exp_zi / sum_exp_zi\n",
    "            y.append(yi)\n",
    "\n",
    "        return np.array(y)\n",
    "    \n",
    "    def backward(p, y) :\n",
    "        dp = p.copy()\n",
    "        for dpi, yi in zip(dp, y):\n",
    "            for k in range(dp.shape[1]):\n",
    "                if k == yi :\n",
    "                    dpi[k] -= 1\n",
    "        return dp"
   ]
  },
  {
   "cell_type": "markdown",
   "id": "36955740",
   "metadata": {
    "pycharm": {
     "name": "#%% md\n"
    }
   },
   "source": [
    "## Loss Function"
   ]
  },
  {
   "cell_type": "code",
   "execution_count": 28,
   "id": "44e0ad37",
   "metadata": {
    "pycharm": {
     "name": "#%%\n"
    }
   },
   "outputs": [],
   "source": [
    "def cross_entropy(p, y):\n",
    "    loss = []\n",
    "    for pi, yi in zip(p, y):\n",
    "        for k in range(p.shape[1]):\n",
    "            if k == yi:\n",
    "                loss.append((-1) * (np.log(pi[k] + 1e-8))) \n",
    "    return loss"
   ]
  },
  {
   "cell_type": "markdown",
   "id": "0f9a7228",
   "metadata": {
    "pycharm": {
     "name": "#%% md\n"
    }
   },
   "source": [
    "## Layer"
   ]
  },
  {
   "cell_type": "code",
   "execution_count": 29,
   "id": "668bda1a",
   "metadata": {
    "pycharm": {
     "name": "#%%\n"
    }
   },
   "outputs": [],
   "source": [
    "class Layer:\n",
    "    def __init__(self, input_size, output_size, std=1e-4) :\n",
    "        self.input_size = input_size\n",
    "        self.output_size = output_size\n",
    "        self.bias = np.random.randn(output_size)\n",
    "        self.weight = np.random.randn(input_size, output_size)*std"
   ]
  },
  {
   "cell_type": "markdown",
   "id": "a72dfcee",
   "metadata": {
    "pycharm": {
     "name": "#%% md\n"
    }
   },
   "source": [
    "## Neural Network\n",
    "- 각 메소드와 변수들의 역할을 주석으로 달아주세요! "
   ]
  },
  {
   "cell_type": "code",
   "execution_count": 30,
   "id": "33125095",
   "metadata": {
    "pycharm": {
     "name": "#%%\n"
    }
   },
   "outputs": [],
   "source": [
    "class CustomNet:\n",
    "    # CustomNet을 선언할 때 생성되는 값들입니다.\n",
    "    def __init__(self, lr=0.0001, epoch=500, batch_size=200):\n",
    "        self.lr = lr                                         #가중치 업데이트 학습률(step size)\n",
    "        self.epoch = epoch                                   #모델이 학습을 반복할 횟수\n",
    "        self.batch_size = batch_size                         #batch의 크기\n",
    "        self.loss_function = cross_entropy                   #모델 성능평가에 사용되는 Loss function\n",
    "        self.layers = []                                     #Layer 배열\n",
    "        self.activations = [softmax]                         #활성함수 배열\n",
    "        self.nodes = []                                      #노드배열\n",
    "    \n",
    "    # Layer를 추가할 때 호출합니다\n",
    "    def addLayer(self, Layer): \n",
    "        self.layers.append(Layer)                            #layer를 입력받아 배열에 추가한다.\n",
    "        if not self.nodes:                                  #node가 비어있을 시에\n",
    "            self.nodes.append(np.zeros(Layer.input_size))   #input size에 대한 정보 추가\n",
    "        self.nodes.append(np.zeros(Layer.output_size))      #output노드들의 size를 포함하여 노드를 추가한다.\n",
    "        \n",
    "    # Activation Function을 추가할 때 호출합니다\n",
    "    def addActivation(self, Activation):\n",
    "        tmp = self.activations.pop()                        #기존 마지막단의 활성함수 추출\n",
    "        self.activations.append(Activation)                 #새로운 활성함수 추가\n",
    "        self.activations.append(tmp)                        #추출해둔 마지막단의 활성함수 추가\n",
    "        \n",
    "    # 순전파 함수\n",
    "    def _forward(self, X):\n",
    "        self.nodes[0] = X.copy()                            #입력 X로 첫단 대체\n",
    "        output = X.copy()                                   \n",
    "        for i in range(len(self.layers)): \n",
    "            Layer = self.layers[i]                          \n",
    "            Activation = self.activations[i]                #layer별 활성함수 지정\n",
    "            output = np.dot(self.nodes[i], Layer.weight)    #Node 값과 가중치 값을 행렬곱하여 출력\n",
    "            output = output+ Layer.bias                     #윗 행의 코드 결과물에 bias 더함\n",
    "            output = Activation.forward(output)             #활성함수 적용\n",
    "            self.nodes[i+1] = output                        #다음번 노드로 결과값 전달\n",
    "        return output   \n",
    "    \n",
    "    # 역전파 함수\n",
    "    def _backward(self, X, output, y) :\n",
    "        for i in reversed(range(len(self.layers))):         #반대 방향으로 진행\n",
    "            a = self.nodes[i+1]                               \n",
    "            Layer = self.layers[i]                             \n",
    "            Activation = self.activations[i]         \n",
    "            \n",
    "            #은닉충 별로 error 계산\n",
    "            if i+1 == len(self.layers): \n",
    "                error = Activation.backward(output, y)      \n",
    "            else:\n",
    "                error *= Activation.backward(a)\n",
    "            Layer.weight -= np.dot(error.T, self.nodes[i]).T*self.lr/X.shape[0]  #error 값과 learnrin rate를 이용하여 가중치 업데이트 \n",
    "            Layer.bias -= error.sum(axis=0)*self.lr/X.shape[0]                   #바이어스 업데이트\n",
    "            error = np.dot(error, Layer.weight.T)                                #Error 값 계산\n",
    "            \n",
    "    # Accrucy를 반환합니다\n",
    "    def _accuracy(self, output, y):\n",
    "        pre_p = np.argmax(output, axis=1)                                        #Softmax 값이 가장 큰 index 변환\n",
    "        return np.sum(pre_p==y)/y.shape[0]                                      #분류가 잘 된 비율\n",
    "    \n",
    "    # 데이터셋에 모델을 fit할때 호출합니다\n",
    "    def fit(self, X, y, val_X, val_y):\n",
    "        history = {'val_acc': [],'val_loss': []}\n",
    "        N = X.shape[0]\n",
    "        for i in range(self.epoch):\n",
    "            for j in range(N//self.batch_size):                                 #미니배치 크기만큼 진행\n",
    "                batch_mask = np.random.choice(N, self.batch_size)               #배치사이즈 만큼의 N개의 mask 선택\n",
    "                X_batch = X[batch_mask]                                         \n",
    "                y_batch = y[batch_mask]                               \n",
    "                output = self._forward(X_batch)                                 #배치 데이터 순전파                   \n",
    "                self._backward(X_batch, output, y_batch)                        #역전파\n",
    "            \n",
    "            #accuracy와 loss를 기록해둡시다\n",
    "            output = self._forward(val_X) \n",
    "            history[\"val_acc\"].append(self._accuracy(output, val_y)) \n",
    "            history[\"val_loss\"].append(sum(self.loss_function(output, val_y))) \n",
    "            \n",
    "            #중간중간 기록을 찍어볼 때 사용. 적절히 조절해 쓰세요\n",
    "            if i % 10 == 0:\n",
    "                print(i, \"test accuracy :\", history[\"val_acc\"][-1])\n",
    "                print(i, \"test loss     :\", history[\"val_loss\"][-1])\n",
    "        return history"
   ]
  },
  {
   "cell_type": "markdown",
   "id": "e7787d0e",
   "metadata": {
    "pycharm": {
     "name": "#%% md\n"
    }
   },
   "source": [
    "## Customizing\n",
    "- Network parameter, Layer architecture, Activation function .. 등등 다양한 하이퍼파라미터를 커스터마이징하여 높은 성능에 도달해 봅시다! "
   ]
  },
  {
   "cell_type": "code",
   "execution_count": 31,
   "id": "10d3d20c",
   "metadata": {
    "pycharm": {
     "name": "#%%\n"
    }
   },
   "outputs": [],
   "source": [
    "# 하이퍼파라미터를 적절히 조절해 뉴럴넷을 선언하세요\n",
    "nn = CustomNet(lr=0.005, epoch=200, batch_size=400)\n",
    "\n",
    "# 원하는 만큼 층과 활성화 함수를 쌓아 주세요. 기본적으로 2Layer를 예시로 적어드립니다\n",
    "nn.addLayer(Layer(784,100))\n",
    "nn.addActivation(sigmoid)\n",
    "nn.addLayer(Layer(100,10))"
   ]
  },
  {
   "cell_type": "code",
   "execution_count": 32,
   "id": "771766e2",
   "metadata": {
    "pycharm": {
     "name": "#%%\n"
    }
   },
   "outputs": [
    {
     "name": "stdout",
     "output_type": "stream",
     "text": [
      "(784, 100) (100,)\n",
      "(100, 10) (10,)\n"
     ]
    }
   ],
   "source": [
    "# 선언한 뉴럴넷의 구조입니다\n",
    "for layer in nn.layers:\n",
    "    print(layer.weight.shape, layer.bias.shape)"
   ]
  },
  {
   "cell_type": "code",
   "execution_count": 33,
   "id": "b2c1018a",
   "metadata": {
    "pycharm": {
     "name": "#%%\n"
    }
   },
   "outputs": [
    {
     "name": "stdout",
     "output_type": "stream",
     "text": [
      "0 test accuracy : 0.1135\n",
      "0 test loss     : 23182.82763804966\n",
      "10 test accuracy : 0.1141\n",
      "10 test loss     : 22862.44169856714\n",
      "20 test accuracy : 0.1756\n",
      "20 test loss     : 22691.07019449911\n",
      "30 test accuracy : 0.1747\n",
      "30 test loss     : 22365.136687711125\n",
      "40 test accuracy : 0.2561\n",
      "40 test loss     : 21624.82191991981\n",
      "50 test accuracy : 0.2589\n",
      "50 test loss     : 20294.656226982825\n",
      "60 test accuracy : 0.3075\n",
      "60 test loss     : 18918.78570590689\n",
      "70 test accuracy : 0.4195\n",
      "70 test loss     : 17361.27042582381\n",
      "80 test accuracy : 0.495\n",
      "80 test loss     : 15171.329513057563\n",
      "90 test accuracy : 0.5891\n",
      "90 test loss     : 13141.121548241144\n",
      "100 test accuracy : 0.6599\n",
      "100 test loss     : 11448.806927739246\n",
      "110 test accuracy : 0.7064\n",
      "110 test loss     : 10119.699969965406\n",
      "120 test accuracy : 0.7403\n",
      "120 test loss     : 9103.069923562\n",
      "130 test accuracy : 0.7635\n",
      "130 test loss     : 8302.252335780211\n",
      "140 test accuracy : 0.7881\n",
      "140 test loss     : 7643.801221819511\n",
      "150 test accuracy : 0.8086\n",
      "150 test loss     : 7097.231856743386\n",
      "160 test accuracy : 0.8237\n",
      "160 test loss     : 6632.26912071156\n",
      "170 test accuracy : 0.8341\n",
      "170 test loss     : 6240.114884767565\n",
      "180 test accuracy : 0.8414\n",
      "180 test loss     : 5904.424996969202\n",
      "190 test accuracy : 0.848\n",
      "190 test loss     : 5614.697805289429\n"
     ]
    }
   ],
   "source": [
    "history = nn.fit(X_train, Y_train, X_test, Y_test)"
   ]
  },
  {
   "cell_type": "markdown",
   "id": "b76a6163",
   "metadata": {
    "pycharm": {
     "name": "#%% md\n"
    }
   },
   "source": [
    "## Accuracy, Loss Visualization\n",
    "- 자유롭게 Accuracy나 Loss를 시각화하여 확인하고 결과를 확인해 보세요! "
   ]
  },
  {
   "cell_type": "code",
   "execution_count": 34,
   "id": "eb733190",
   "metadata": {
    "pycharm": {
     "name": "#%%\n"
    }
   },
   "outputs": [],
   "source": [
    "def get_accuracy(history, epoch):\n",
    "    fig = plt.figure()\n",
    "    ax_acc = fig.add_subplot(111)\n",
    "\n",
    "    ax_acc.plot(range(epoch), history['val_acc'], label='정확도(%)', color='darkred')\n",
    "    plt.xlabel('epochs')\n",
    "    plt.ylabel('Validation Accuracy(%)')\n",
    "    ax_acc.grid(linestyle='--', color='lavender')\n",
    "    ax_loss = ax_acc.twinx()\n",
    "    ax_loss.plot(range(epoch), history['val_loss'], label='오차', color='darkblue')\n",
    "    plt.ylabel('Validation Loss')\n",
    "    ax_loss.yaxis.tick_right()\n",
    "    ax_loss.grid(linestyle='--', color='lavender')\n",
    "\n",
    "    # 그래프 표시\n",
    "    plt.show()\n",
    "    print(\"Best Validation Accuracy : \",max(history['val_acc']))\n",
    "    "
   ]
  },
  {
   "cell_type": "code",
   "execution_count": 37,
   "id": "8702d4f6",
   "metadata": {
    "pycharm": {
     "name": "#%%\n"
    }
   },
   "outputs": [
    {
     "data": {
      "image/png": "[encoded data removed]",
      "text/plain": [
       "<Figure size 432x288 with 2 Axes>"
      ]
     },
     "metadata": {
      "needs_background": "light"
     },
     "output_type": "display_data"
    },
    {
     "name": "stdout",
     "output_type": "stream",
     "text": [
      "Best Validation Accuracy :  0.8548\n"
     ]
    }
   ],
   "source": [
    "get_accuracy(history, 200)"
   ]
  }
 ],
 "metadata": {
  "kernelspec": {
   "display_name": "Python 3 (ipykernel)",
   "language": "python",
   "name": "python3"
  },
  "language_info": {
   "codemirror_mode": {
    "name": "ipython",
    "version": 3
   },
   "file_extension": ".py",
   "mimetype": "text/x-python",
   "name": "python",
   "nbconvert_exporter": "python",
   "pygments_lexer": "ipython3",
   "version": "3.9.12"
  }
 },
 "nbformat": 4,
 "nbformat_minor": 5
}
